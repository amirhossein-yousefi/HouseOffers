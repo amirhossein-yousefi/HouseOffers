{
 "nbformat": 4,
 "nbformat_minor": 0,
 "metadata": {
  "colab": {
   "name": "German_BERT_rent_prediction.ipynb",
   "provenance": [],
   "collapsed_sections": [],
   "machine_shape": "hm"
  },
  "kernelspec": {
   "name": "python3",
   "display_name": "Python 3"
  },
  "language_info": {
   "name": "python"
  },
  "accelerator": "GPU"
 },
 "cells": [
  {
   "cell_type": "code",
   "execution_count": 1,
   "metadata": {
    "id": "SF1Su28XHXyv",
    "pycharm": {
     "name": "#%%\n"
    }
   },
   "outputs": [],
   "source": [
    "import pandas as pd\n",
    "import matplotlib.pyplot as plt\n",
    "import seaborn as sns\n",
    "from sklearn.model_selection import train_test_split\n",
    "import numpy as np\n",
    "from sklearn.metrics import mean_squared_error"
   ]
  },
  {
   "cell_type": "code",
   "source": [
    "from google.colab import drive\n",
    "drive.mount('/content/drive')"
   ],
   "metadata": {
    "colab": {
     "base_uri": "https://localhost:8080/"
    },
    "id": "hUSCFOz4LaSt",
    "outputId": "63d3a877-1757-4ced-ffcd-c17da2a639fa",
    "pycharm": {
     "name": "#%%\n"
    }
   },
   "execution_count": 2,
   "outputs": [
    {
     "output_type": "stream",
     "name": "stdout",
     "text": [
      "Drive already mounted at /content/drive; to attempt to forcibly remount, call drive.mount(\"/content/drive\", force_remount=True).\n"
     ]
    }
   ]
  },
  {
   "cell_type": "code",
   "source": [
    "data=pd.read_csv('drive/MyDrive/immo_data_clean2.csv',lineterminator='\\n')\n",
    "handy_data=data.copy()"
   ],
   "metadata": {
    "id": "QQ1YIJVVLaVf",
    "pycharm": {
     "name": "#%%\n"
    }
   },
   "execution_count": 3,
   "outputs": []
  },
  {
   "cell_type": "code",
   "source": [
    "def get_rid_outl(df, list_num_var, percentile):\n",
    "    \"\"\"\n",
    "    INPUT: \n",
    "    df: Dataframe\n",
    "    list_num_var: List of the variables (columns) with outliers that need to be deleted\n",
    "    percentile: float between 0 and 100: Percentage of the data that will be kept \n",
    "    \n",
    "    OUTPUT:\n",
    "    DataFrame with the defined amount of data. This means a DataFrame without outliers\n",
    "    \"\"\"\n",
    "    \n",
    "    perc_dict = {}\n",
    "    for col in list_num_var: # first, calculate all the percentiles before removing any\n",
    "        # row, otherwise you will remove more rows than necessary\n",
    "        value_perc = np.nanpercentile(df[col], percentile)\n",
    "        value_perc_dict = {col: value_perc}\n",
    "        perc_dict.update(value_perc_dict)\n",
    "        \n",
    "    for var in list_num_var:    \n",
    "        df = df.loc[(df[var] <= perc_dict[var]) ^ (df[var].isnull())] # include nan values\n",
    "    \n",
    "    return df"
   ],
   "metadata": {
    "id": "v4ybvX7xR_Cc",
    "pycharm": {
     "name": "#%%\n"
    }
   },
   "execution_count": 4,
   "outputs": []
  },
  {
   "cell_type": "code",
   "source": [
    "handy_data.loc[handy_data.yearConstructed == \"NO_INFORMATION\", \"yearConstructed\"] = '0'\n",
    "handy_data['yearConstructed']=handy_data['yearConstructed'].astype(int)\n",
    "handy_data.loc[handy_data.yearConstructed == 0, \"yearConstructed\"] = None"
   ],
   "metadata": {
    "id": "M_NEOuPGR_Hr",
    "pycharm": {
     "name": "#%%\n"
    }
   },
   "execution_count": 5,
   "outputs": []
  },
  {
   "cell_type": "code",
   "source": [
    "handy_data['yearConstructed'] = handy_data['yearConstructed'].fillna(handy_data['yearConstructed'].median())"
   ],
   "metadata": {
    "id": "jj3ur4yKR_KV",
    "pycharm": {
     "name": "#%%\n"
    }
   },
   "execution_count": 6,
   "outputs": []
  },
  {
   "cell_type": "code",
   "source": [
    "handy_data.drop(columns=['totalRent',\n",
    "                 'serviceCharge',\n",
    "                 'heatingCosts'], inplace=True)\n",
    "\n",
    "# rename the response variable to rent\n",
    "handy_data.rename(columns={'rent_incl_hc': 'rent'}, inplace=True)\n",
    "\n",
    "# remove all rows where living space is 0\n",
    "handy_data = handy_data[handy_data['livingSpace'] != 0]\n",
    "\n",
    "# create a new variable for the rent/livingSpace (rent/m2)\n",
    "handy_data['rent_m2'] = handy_data['rent'] / handy_data['livingSpace']\n",
    "\n",
    "# get rid of outliers\n",
    "handy_data = get_rid_outl(handy_data, ['rent_m2'], 99.8)"
   ],
   "metadata": {
    "colab": {
     "base_uri": "https://localhost:8080/"
    },
    "id": "xyJOtbaZR_ND",
    "outputId": "50e7bf05-e8f1-4488-9a61-12e37e5db057",
    "pycharm": {
     "name": "#%%\n"
    }
   },
   "execution_count": 7,
   "outputs": [
    {
     "output_type": "stream",
     "name": "stderr",
     "text": [
      "/usr/local/lib/python3.7/dist-packages/ipykernel_launcher.py:12: SettingWithCopyWarning: \n",
      "A value is trying to be set on a copy of a slice from a DataFrame.\n",
      "Try using .loc[row_indexer,col_indexer] = value instead\n",
      "\n",
      "See the caveats in the documentation: https://pandas.pydata.org/pandas-docs/stable/user_guide/indexing.html#returning-a-view-versus-a-copy\n",
      "  if sys.path[0] == '':\n"
     ]
    }
   ]
  },
  {
   "cell_type": "code",
   "source": [
    "handy_data.typeOfFlat.replace(np.nan, 'NO_INFORMATION', inplace=True)\n",
    "handy_data.interiorQuality.replace(np.nan, 'NO_INFORMATION', inplace=True)"
   ],
   "metadata": {
    "id": "rcaWTyS1R_Pu",
    "pycharm": {
     "name": "#%%\n"
    }
   },
   "execution_count": 8,
   "outputs": []
  },
  {
   "cell_type": "code",
   "source": [
    "handy_data_new=handy_data[[feat for feat in handy_data.columns.to_list() if feat not in ['Unnamed: 0']] ]"
   ],
   "metadata": {
    "id": "XUfk3GJ9Sfx8",
    "pycharm": {
     "name": "#%%\n"
    }
   },
   "execution_count": 9,
   "outputs": []
  },
  {
   "cell_type": "code",
   "source": [
    "y = handy_data_new['rent']\n",
    "X = handy_data_new[[i for i in handy_data_new.columns if i not in ['rent', 'rent_m2']]]\n",
    "train, test = train_test_split(pd.concat([X,y],axis=1), test_size=0.2,random_state=42)\n",
    "df_train,df_test=train.copy(),test.copy()\n",
    "df_train['split']='train'\n",
    "df_test['split']='test'\n",
    "print('{:,} training samples'.format(len(df_train)))\n",
    "print('{:,} test samples'.format(len(df_test)))\n",
    "\n",
    "# Confirm the columns match between the two.\n",
    "assert(set(df_train.columns) == set(df_test.columns))\n",
    "\n",
    "# Combine the two into a single dataframe for processing. We'll split them back\n",
    "# apart later, using the 'split' column we added.\n",
    "df = pd.concat([df_train, df_test])\n",
    "\n",
    "# Use empty string to represent any empty cells.\n",
    "df.fillna(value='', inplace=True)"
   ],
   "metadata": {
    "colab": {
     "base_uri": "https://localhost:8080/"
    },
    "id": "lZw0IUb0Sf0U",
    "outputId": "9ae06081-3a87-43fd-a830-667d27f9ee98",
    "pycharm": {
     "name": "#%%\n"
    }
   },
   "execution_count": 10,
   "outputs": [
    {
     "output_type": "stream",
     "name": "stdout",
     "text": [
      "173,613 training samples\n",
      "43,404 test samples\n"
     ]
    }
   ]
  },
  {
   "cell_type": "code",
   "source": [
    "import matplotlib.pyplot as plt\n",
    "import seaborn as sns\n",
    "\n",
    "# Plot a histogram of the rental prices.\n",
    "ax = sns.histplot(df['rent'], bins=30)\n",
    "\n",
    "t = ax.set_title('Histogram of Rental prices')"
   ],
   "metadata": {
    "colab": {
     "base_uri": "https://localhost:8080/",
     "height": 295
    },
    "id": "g9xcG5SLSf2x",
    "outputId": "48745616-563d-45bd-d338-a30f387b7628",
    "pycharm": {
     "name": "#%%\n"
    }
   },
   "execution_count": 11,
   "outputs": [
    {
     "output_type": "display_data",
     "data": {
      "text/plain": [
       "<Figure size 432x288 with 1 Axes>"
      ],
      "image/png": "[encoded data removed]"
     },
     "metadata": {
      "needs_background": "light"
     }
    }
   ]
  },
  {
   "cell_type": "code",
   "source": [
    "df.info()"
   ],
   "metadata": {
    "colab": {
     "base_uri": "https://localhost:8080/"
    },
    "id": "lG70bMD4Sf5A",
    "outputId": "18b9f7ff-1e61-42b5-cbc8-290a78198aea",
    "pycharm": {
     "name": "#%%\n"
    }
   },
   "execution_count": 12,
   "outputs": [
    {
     "output_type": "stream",
     "name": "stdout",
     "text": [
      "<class 'pandas.core.frame.DataFrame'>\n",
      "Int64Index: 217017 entries, 192241 to 55688\n",
      "Data columns (total 27 columns):\n",
      " #   Column                 Non-Null Count   Dtype  \n",
      "---  ------                 --------------   -----  \n",
      " 0   regionLevel1           217017 non-null  object \n",
      " 1   heatingType            217017 non-null  object \n",
      " 2   newlyConst             217017 non-null  bool   \n",
      " 3   balcony                217017 non-null  bool   \n",
      " 4   yearConstructed        217017 non-null  float64\n",
      " 5   noParkSpaces           217017 non-null  float64\n",
      " 6   kitchen                217017 non-null  bool   \n",
      " 7   cellar                 217017 non-null  bool   \n",
      " 8   livingSpace            217017 non-null  float64\n",
      " 9   condition              217017 non-null  object \n",
      " 10  interiorQuality        217017 non-null  object \n",
      " 11  petsAllowed            217017 non-null  object \n",
      " 12  lift                   217017 non-null  bool   \n",
      " 13  typeOfFlat             217017 non-null  object \n",
      " 14  postcode               217017 non-null  int64  \n",
      " 15  noRooms                217017 non-null  float64\n",
      " 16  floor                  217017 non-null  object \n",
      " 17  numberOfFloors         217017 non-null  object \n",
      " 18  garden                 217017 non-null  bool   \n",
      " 19  regionLevel2           217017 non-null  object \n",
      " 20  regionLevel3           217017 non-null  object \n",
      " 21  description            217017 non-null  object \n",
      " 22  facilities             217017 non-null  object \n",
      " 23  energyEfficiencyClass  217017 non-null  object \n",
      " 24  lastRefurbish          217017 non-null  object \n",
      " 25  rent                   217017 non-null  float64\n",
      " 26  split                  217017 non-null  object \n",
      "dtypes: bool(6), float64(5), int64(1), object(15)\n",
      "memory usage: 37.7+ MB\n"
     ]
    }
   ]
  },
  {
   "cell_type": "code",
   "source": [
    "col_info = {}\n",
    "\n",
    "# Specify our text features.\n",
    "col_info['text_cols'] = [\n",
    "   # categorical features\n",
    "  'regionLevel1',\n",
    " 'heatingType',\n",
    " 'condition',\n",
    " 'interiorQuality',\n",
    " 'petsAllowed',\n",
    " 'typeOfFlat',\n",
    " 'floor',\n",
    " 'numberOfFloors',\n",
    " 'regionLevel2',\n",
    " 'regionLevel3',\n",
    " 'energyEfficiencyClass',\n",
    " 'lastRefurbish',\n",
    "    # Text Features.\n",
    "  'description',\n",
    "  'facilities'  \n",
    "]\n",
    "\n",
    "# Specify our numerical features.\n",
    "col_info['num_cols'] = [ \n",
    "  'yearConstructed',\n",
    "  'noParkSpaces',\n",
    "   'livingSpace',\n",
    "    'noRooms',\n",
    "    'postcode'\n",
    "]\n",
    "\n",
    "# Specify our categorical features--all of these are binary. \n",
    "col_info['cat_cols'] = [\n",
    " 'newlyConst',\n",
    " 'balcony',\n",
    " 'kitchen', \n",
    " 'cellar',\n",
    "  'lift', \n",
    "  'garden']\n",
    "\n",
    "\n"
   ],
   "metadata": {
    "id": "eKQoQ9iaUnRl",
    "pycharm": {
     "name": "#%%\n"
    }
   },
   "execution_count": 1,
   "outputs": []
  },
  {
   "cell_type": "code",
   "source": [
    "len(col_info['text_cols'])"
   ],
   "metadata": {
    "colab": {
     "base_uri": "https://localhost:8080/"
    },
    "id": "EtUAxYHme1vQ",
    "outputId": "15b711ac-fb09-4a69-cac1-717b254ec25f",
    "pycharm": {
     "name": "#%%\n"
    }
   },
   "execution_count": 3,
   "outputs": [
    {
     "output_type": "execute_result",
     "data": {
      "text/plain": [
       "14"
      ]
     },
     "metadata": {},
     "execution_count": 3
    }
   ]
  },
  {
   "cell_type": "code",
   "source": [
    "print('There are:')\n",
    "print('  {:,}  numerical features'.format(len(col_info['num_cols'])))\n",
    "print('  {:,}  categorical features'.format(len(col_info['cat_cols'])))\n",
    "print('  {:,}  text features'.format(len(col_info['text_cols'])))\n"
   ],
   "metadata": {
    "colab": {
     "base_uri": "https://localhost:8080/"
    },
    "id": "-_dn-cDnXnrH",
    "outputId": "ee246bb8-aa6d-465c-f268-402748c56012",
    "pycharm": {
     "name": "#%%\n"
    }
   },
   "execution_count": 14,
   "outputs": [
    {
     "output_type": "stream",
     "name": "stdout",
     "text": [
      "There are:\n",
      "  5  numerical features\n",
      "  6  categorical features\n",
      "  14  text features\n"
     ]
    }
   ]
  },
  {
   "cell_type": "code",
   "source": [
    "# Select just the columns we're using.\n",
    "data_df = df[col_info['text_cols'] +  \n",
    "             col_info['num_cols'] +\n",
    "             col_info['cat_cols'] + \n",
    "             ['rent', 'split']] # 'rent' is our label.\n",
    "              \n",
    "\n",
    "data_df.head()"
   ],
   "metadata": {
    "colab": {
     "base_uri": "https://localhost:8080/",
     "height": 300
    },
    "id": "xTPNcHDXXuqw",
    "outputId": "37754be7-8d84-498e-9f0b-a014c0b84b2b",
    "pycharm": {
     "name": "#%%\n"
    }
   },
   "execution_count": 15,
   "outputs": [
    {
     "output_type": "execute_result",
     "data": {
      "text/plain": [
       "             regionLevel1                     heatingType  \\\n",
       "192241            Sachsen                 central_heating   \n",
       "131248            Sachsen                 central_heating   \n",
       "64389             Sachsen                                   \n",
       "155488  Baden_Württemberg  self_contained_central_heating   \n",
       "87135              Hessen                 central_heating   \n",
       "\n",
       "                                 condition interiorQuality petsAllowed  \\\n",
       "192241                           well_kept          normal  negotiable   \n",
       "131248                         refurbished          normal               \n",
       "64389                                       NO_INFORMATION               \n",
       "155488  first_time_use_after_refurbishment          normal          no   \n",
       "87135                            well_kept          normal  negotiable   \n",
       "\n",
       "            typeOfFlat floor  numberOfFloors  \\\n",
       "192241       apartment   1.0             2.0   \n",
       "131248     roof_storey   3.0  NO_INFORMATION   \n",
       "64389   NO_INFORMATION   1.0  NO_INFORMATION   \n",
       "155488       apartment   1.0             3.0   \n",
       "87135        apartment   1.0             2.0   \n",
       "\n",
       "                                  regionLevel2 regionLevel3  ... noRooms  \\\n",
       "192241  Sächsische_Schweiz_Osterzgebirge_Kreis      Freital  ...     2.0   \n",
       "131248                           Bautzen_Kreis    Bernsdorf  ...     4.0   \n",
       "64389                            Bautzen_Kreis    Hochkirch  ...     2.0   \n",
       "155488                               Stuttgart       Büsnau  ...     3.0   \n",
       "87135                             Gießen_Kreis     Langgöns  ...     3.0   \n",
       "\n",
       "       postcode newlyConst balcony  kitchen  cellar   lift  garden   rent  \\\n",
       "192241     1705      False   False     True    True  False    True  410.0   \n",
       "131248     2994      False   False    False    True  False   False  762.0   \n",
       "64389      2627      False   False    False   False  False   False  318.5   \n",
       "155488    70569      False    True    False    True  False   False  930.0   \n",
       "87135     35428      False    True    False    True  False   False  850.0   \n",
       "\n",
       "        split  \n",
       "192241  train  \n",
       "131248  train  \n",
       "64389   train  \n",
       "155488  train  \n",
       "87135   train  \n",
       "\n",
       "[5 rows x 27 columns]"
      ],
      "text/html": [
       "\n",
       "  <div id=\"df-7b774c00-6040-4c12-aada-16d34c86d591\">\n",
       "    <div class=\"colab-df-container\">\n",
       "      <div>\n",
       "<style scoped>\n",
       "    .dataframe tbody tr th:only-of-type {\n",
       "        vertical-align: middle;\n",
       "    }\n",
       "\n",
       "    .dataframe tbody tr th {\n",
       "        vertical-align: top;\n",
       "    }\n",
       "\n",
       "    .dataframe thead th {\n",
       "        text-align: right;\n",
       "    }\n",
       "</style>\n",
       "<table border=\"1\" class=\"dataframe\">\n",
       "  <thead>\n",
       "    <tr style=\"text-align: right;\">\n",
       "      <th></th>\n",
       "      <th>regionLevel1</th>\n",
       "      <th>heatingType</th>\n",
       "      <th>condition</th>\n",
       "      <th>interiorQuality</th>\n",
       "      <th>petsAllowed</th>\n",
       "      <th>typeOfFlat</th>\n",
       "      <th>floor</th>\n",
       "      <th>numberOfFloors</th>\n",
       "      <th>regionLevel2</th>\n",
       "      <th>regionLevel3</th>\n",
       "      <th>...</th>\n",
       "      <th>noRooms</th>\n",
       "      <th>postcode</th>\n",
       "      <th>newlyConst</th>\n",
       "      <th>balcony</th>\n",
       "      <th>kitchen</th>\n",
       "      <th>cellar</th>\n",
       "      <th>lift</th>\n",
       "      <th>garden</th>\n",
       "      <th>rent</th>\n",
       "      <th>split</th>\n",
       "    </tr>\n",
       "  </thead>\n",
       "  <tbody>\n",
       "    <tr>\n",
       "      <th>192241</th>\n",
       "      <td>Sachsen</td>\n",
       "      <td>central_heating</td>\n",
       "      <td>well_kept</td>\n",
       "      <td>normal</td>\n",
       "      <td>negotiable</td>\n",
       "      <td>apartment</td>\n",
       "      <td>1.0</td>\n",
       "      <td>2.0</td>\n",
       "      <td>Sächsische_Schweiz_Osterzgebirge_Kreis</td>\n",
       "      <td>Freital</td>\n",
       "      <td>...</td>\n",
       "      <td>2.0</td>\n",
       "      <td>1705</td>\n",
       "      <td>False</td>\n",
       "      <td>False</td>\n",
       "      <td>True</td>\n",
       "      <td>True</td>\n",
       "      <td>False</td>\n",
       "      <td>True</td>\n",
       "      <td>410.0</td>\n",
       "      <td>train</td>\n",
       "    </tr>\n",
       "    <tr>\n",
       "      <th>131248</th>\n",
       "      <td>Sachsen</td>\n",
       "      <td>central_heating</td>\n",
       "      <td>refurbished</td>\n",
       "      <td>normal</td>\n",
       "      <td></td>\n",
       "      <td>roof_storey</td>\n",
       "      <td>3.0</td>\n",
       "      <td>NO_INFORMATION</td>\n",
       "      <td>Bautzen_Kreis</td>\n",
       "      <td>Bernsdorf</td>\n",
       "      <td>...</td>\n",
       "      <td>4.0</td>\n",
       "      <td>2994</td>\n",
       "      <td>False</td>\n",
       "      <td>False</td>\n",
       "      <td>False</td>\n",
       "      <td>True</td>\n",
       "      <td>False</td>\n",
       "      <td>False</td>\n",
       "      <td>762.0</td>\n",
       "      <td>train</td>\n",
       "    </tr>\n",
       "    <tr>\n",
       "      <th>64389</th>\n",
       "      <td>Sachsen</td>\n",
       "      <td></td>\n",
       "      <td></td>\n",
       "      <td>NO_INFORMATION</td>\n",
       "      <td></td>\n",
       "      <td>NO_INFORMATION</td>\n",
       "      <td>1.0</td>\n",
       "      <td>NO_INFORMATION</td>\n",
       "      <td>Bautzen_Kreis</td>\n",
       "      <td>Hochkirch</td>\n",
       "      <td>...</td>\n",
       "      <td>2.0</td>\n",
       "      <td>2627</td>\n",
       "      <td>False</td>\n",
       "      <td>False</td>\n",
       "      <td>False</td>\n",
       "      <td>False</td>\n",
       "      <td>False</td>\n",
       "      <td>False</td>\n",
       "      <td>318.5</td>\n",
       "      <td>train</td>\n",
       "    </tr>\n",
       "    <tr>\n",
       "      <th>155488</th>\n",
       "      <td>Baden_Württemberg</td>\n",
       "      <td>self_contained_central_heating</td>\n",
       "      <td>first_time_use_after_refurbishment</td>\n",
       "      <td>normal</td>\n",
       "      <td>no</td>\n",
       "      <td>apartment</td>\n",
       "      <td>1.0</td>\n",
       "      <td>3.0</td>\n",
       "      <td>Stuttgart</td>\n",
       "      <td>Büsnau</td>\n",
       "      <td>...</td>\n",
       "      <td>3.0</td>\n",
       "      <td>70569</td>\n",
       "      <td>False</td>\n",
       "      <td>True</td>\n",
       "      <td>False</td>\n",
       "      <td>True</td>\n",
       "      <td>False</td>\n",
       "      <td>False</td>\n",
       "      <td>930.0</td>\n",
       "      <td>train</td>\n",
       "    </tr>\n",
       "    <tr>\n",
       "      <th>87135</th>\n",
       "      <td>Hessen</td>\n",
       "      <td>central_heating</td>\n",
       "      <td>well_kept</td>\n",
       "      <td>normal</td>\n",
       "      <td>negotiable</td>\n",
       "      <td>apartment</td>\n",
       "      <td>1.0</td>\n",
       "      <td>2.0</td>\n",
       "      <td>Gießen_Kreis</td>\n",
       "      <td>Langgöns</td>\n",
       "      <td>...</td>\n",
       "      <td>3.0</td>\n",
       "      <td>35428</td>\n",
       "      <td>False</td>\n",
       "      <td>True</td>\n",
       "      <td>False</td>\n",
       "      <td>True</td>\n",
       "      <td>False</td>\n",
       "      <td>False</td>\n",
       "      <td>850.0</td>\n",
       "      <td>train</td>\n",
       "    </tr>\n",
       "  </tbody>\n",
       "</table>\n",
       "<p>5 rows × 27 columns</p>\n",
       "</div>\n",
       "      <button class=\"colab-df-convert\" onclick=\"convertToInteractive('df-7b774c00-6040-4c12-aada-16d34c86d591')\"\n",
       "              title=\"Convert this dataframe to an interactive table.\"\n",
       "              style=\"display:none;\">\n",
       "        \n",
       "  <svg xmlns=\"http://www.w3.org/2000/svg\" height=\"24px\"viewBox=\"0 0 24 24\"\n",
       "       width=\"24px\">\n",
       "    <path d=\"M0 0h24v24H0V0z\" fill=\"none\"/>\n",
       "    <path d=\"M18.56 5.44l.94 2.06.94-2.06 2.06-.94-2.06-.94-.94-2.06-.94 2.06-2.06.94zm-11 1L8.5 8.5l.94-2.06 2.06-.94-2.06-.94L8.5 2.5l-.94 2.06-2.06.94zm10 10l.94 2.06.94-2.06 2.06-.94-2.06-.94-.94-2.06-.94 2.06-2.06.94z\"/><path d=\"M17.41 7.96l-1.37-1.37c-.4-.4-.92-.59-1.43-.59-.52 0-1.04.2-1.43.59L10.3 9.45l-7.72 7.72c-.78.78-.78 2.05 0 2.83L4 21.41c.39.39.9.59 1.41.59.51 0 1.02-.2 1.41-.59l7.78-7.78 2.81-2.81c.8-.78.8-2.07 0-2.86zM5.41 20L4 18.59l7.72-7.72 1.47 1.35L5.41 20z\"/>\n",
       "  </svg>\n",
       "      </button>\n",
       "      \n",
       "  <style>\n",
       "    .colab-df-container {\n",
       "      display:flex;\n",
       "      flex-wrap:wrap;\n",
       "      gap: 12px;\n",
       "    }\n",
       "\n",
       "    .colab-df-convert {\n",
       "      background-color: #E8F0FE;\n",
       "      border: none;\n",
       "      border-radius: 50%;\n",
       "      cursor: pointer;\n",
       "      display: none;\n",
       "      fill: #1967D2;\n",
       "      height: 32px;\n",
       "      padding: 0 0 0 0;\n",
       "      width: 32px;\n",
       "    }\n",
       "\n",
       "    .colab-df-convert:hover {\n",
       "      background-color: #E2EBFA;\n",
       "      box-shadow: 0px 1px 2px rgba(60, 64, 67, 0.3), 0px 1px 3px 1px rgba(60, 64, 67, 0.15);\n",
       "      fill: #174EA6;\n",
       "    }\n",
       "\n",
       "    [theme=dark] .colab-df-convert {\n",
       "      background-color: #3B4455;\n",
       "      fill: #D2E3FC;\n",
       "    }\n",
       "\n",
       "    [theme=dark] .colab-df-convert:hover {\n",
       "      background-color: #434B5C;\n",
       "      box-shadow: 0px 1px 3px 1px rgba(0, 0, 0, 0.15);\n",
       "      filter: drop-shadow(0px 1px 2px rgba(0, 0, 0, 0.3));\n",
       "      fill: #FFFFFF;\n",
       "    }\n",
       "  </style>\n",
       "\n",
       "      <script>\n",
       "        const buttonEl =\n",
       "          document.querySelector('#df-7b774c00-6040-4c12-aada-16d34c86d591 button.colab-df-convert');\n",
       "        buttonEl.style.display =\n",
       "          google.colab.kernel.accessAllowed ? 'block' : 'none';\n",
       "\n",
       "        async function convertToInteractive(key) {\n",
       "          const element = document.querySelector('#df-7b774c00-6040-4c12-aada-16d34c86d591');\n",
       "          const dataTable =\n",
       "            await google.colab.kernel.invokeFunction('convertToInteractive',\n",
       "                                                     [key], {});\n",
       "          if (!dataTable) return;\n",
       "\n",
       "          const docLinkHtml = 'Like what you see? Visit the ' +\n",
       "            '<a target=\"_blank\" href=https://colab.research.google.com/notebooks/data_table.ipynb>data table notebook</a>'\n",
       "            + ' to learn more about interactive tables.';\n",
       "          element.innerHTML = '';\n",
       "          dataTable['output_type'] = 'display_data';\n",
       "          await google.colab.output.renderOutput(dataTable, element);\n",
       "          const docLink = document.createElement('div');\n",
       "          docLink.innerHTML = docLinkHtml;\n",
       "          element.appendChild(docLink);\n",
       "        }\n",
       "      </script>\n",
       "    </div>\n",
       "  </div>\n",
       "  "
      ]
     },
     "metadata": {},
     "execution_count": 15
    }
   ]
  },
  {
   "cell_type": "markdown",
   "source": [
    "## S2. Prepare Numerical & Categorical Features\n"
   ],
   "metadata": {
    "id": "XRMXu1YuY9RI",
    "pycharm": {
     "name": "#%% md\n"
    }
   }
  },
  {
   "cell_type": "markdown",
   "source": [
    "A couple pre-processing steps need to be performed:\n",
    "\n",
    "1. Our binary features are currently represented as 't' or 'f', but we'll need to change this to 1 and 0.\n",
    "2. We'll normalize each numerical feature.\n",
    "\n"
   ],
   "metadata": {
    "id": "OeOQG2UmZAPk",
    "pycharm": {
     "name": "#%% md\n"
    }
   }
  },
  {
   "cell_type": "markdown",
   "source": [
    "### 2.1. Binary Features"
   ],
   "metadata": {
    "id": "JS61VfR-ZD8s",
    "pycharm": {
     "name": "#%% md\n"
    }
   }
  },
  {
   "cell_type": "markdown",
   "source": [
    "Replace the 't' and 'f' values with 1 and 0. \n",
    " "
   ],
   "metadata": {
    "id": "1ziSa6eqZFyq",
    "pycharm": {
     "name": "#%% md\n"
    }
   }
  },
  {
   "cell_type": "code",
   "source": [
    "# Disable those pesky \"SettingWithCopyWarning\" messages.\n",
    "pd.options.mode.chained_assignment = None  # default='warn'\n",
    "\n",
    "print('Converting categorical features to integers...')\n",
    "\n",
    "# For each of the categorical features...\n",
    "for col_name in col_info['cat_cols']:\n",
    "\n",
    "    # Get the number of unique values for this category.\n",
    "    num_unique = len(data_df[col_name].unique())\n",
    "    \n",
    "    # If there are more than two, warn about it.\n",
    "    if num_unique > 2:\n",
    "        print('Note! Column \"{:}\" has {:,} possible values.'.format(col_name, num_unique))\n",
    "\n",
    "    # First, change the type of the specified columns to \"category\". This will \n",
    "    # assign a \"code\" to each unique category value.\n",
    "    data_df[col_name] = data_df[col_name].astype('category')\n",
    "\n",
    "    # Second, replace the strings with their code values.\n",
    "    data_df[col_name] = data_df[col_name].cat.codes.astype('float')\n",
    "\n",
    "print('DONE.')"
   ],
   "metadata": {
    "colab": {
     "base_uri": "https://localhost:8080/"
    },
    "id": "uTVduTDXZDQT",
    "outputId": "6ced7541-1931-46ff-83ca-d3158d05b75a",
    "pycharm": {
     "name": "#%%\n"
    }
   },
   "execution_count": 16,
   "outputs": [
    {
     "output_type": "stream",
     "name": "stdout",
     "text": [
      "Converting categorical features to integers...\n",
      "DONE.\n"
     ]
    }
   ]
  },
  {
   "cell_type": "code",
   "source": [
    "# Display the category columns after the transformation.\n",
    "data_df[col_info['cat_cols']].head()"
   ],
   "metadata": {
    "colab": {
     "base_uri": "https://localhost:8080/",
     "height": 206
    },
    "id": "99bdwASdVUAY",
    "outputId": "32760224-7c67-41af-f97a-a20da8b4b34d",
    "pycharm": {
     "name": "#%%\n"
    }
   },
   "execution_count": 17,
   "outputs": [
    {
     "output_type": "execute_result",
     "data": {
      "text/plain": [
       "        newlyConst  balcony  kitchen  cellar  lift  garden\n",
       "192241         0.0      0.0      1.0     1.0   0.0     1.0\n",
       "131248         0.0      0.0      0.0     1.0   0.0     0.0\n",
       "64389          0.0      0.0      0.0     0.0   0.0     0.0\n",
       "155488         0.0      1.0      0.0     1.0   0.0     0.0\n",
       "87135          0.0      1.0      0.0     1.0   0.0     0.0"
      ],
      "text/html": [
       "\n",
       "  <div id=\"df-63e835a3-1cc9-4da4-87b4-a069edcc6ce9\">\n",
       "    <div class=\"colab-df-container\">\n",
       "      <div>\n",
       "<style scoped>\n",
       "    .dataframe tbody tr th:only-of-type {\n",
       "        vertical-align: middle;\n",
       "    }\n",
       "\n",
       "    .dataframe tbody tr th {\n",
       "        vertical-align: top;\n",
       "    }\n",
       "\n",
       "    .dataframe thead th {\n",
       "        text-align: right;\n",
       "    }\n",
       "</style>\n",
       "<table border=\"1\" class=\"dataframe\">\n",
       "  <thead>\n",
       "    <tr style=\"text-align: right;\">\n",
       "      <th></th>\n",
       "      <th>newlyConst</th>\n",
       "      <th>balcony</th>\n",
       "      <th>kitchen</th>\n",
       "      <th>cellar</th>\n",
       "      <th>lift</th>\n",
       "      <th>garden</th>\n",
       "    </tr>\n",
       "  </thead>\n",
       "  <tbody>\n",
       "    <tr>\n",
       "      <th>192241</th>\n",
       "      <td>0.0</td>\n",
       "      <td>0.0</td>\n",
       "      <td>1.0</td>\n",
       "      <td>1.0</td>\n",
       "      <td>0.0</td>\n",
       "      <td>1.0</td>\n",
       "    </tr>\n",
       "    <tr>\n",
       "      <th>131248</th>\n",
       "      <td>0.0</td>\n",
       "      <td>0.0</td>\n",
       "      <td>0.0</td>\n",
       "      <td>1.0</td>\n",
       "      <td>0.0</td>\n",
       "      <td>0.0</td>\n",
       "    </tr>\n",
       "    <tr>\n",
       "      <th>64389</th>\n",
       "      <td>0.0</td>\n",
       "      <td>0.0</td>\n",
       "      <td>0.0</td>\n",
       "      <td>0.0</td>\n",
       "      <td>0.0</td>\n",
       "      <td>0.0</td>\n",
       "    </tr>\n",
       "    <tr>\n",
       "      <th>155488</th>\n",
       "      <td>0.0</td>\n",
       "      <td>1.0</td>\n",
       "      <td>0.0</td>\n",
       "      <td>1.0</td>\n",
       "      <td>0.0</td>\n",
       "      <td>0.0</td>\n",
       "    </tr>\n",
       "    <tr>\n",
       "      <th>87135</th>\n",
       "      <td>0.0</td>\n",
       "      <td>1.0</td>\n",
       "      <td>0.0</td>\n",
       "      <td>1.0</td>\n",
       "      <td>0.0</td>\n",
       "      <td>0.0</td>\n",
       "    </tr>\n",
       "  </tbody>\n",
       "</table>\n",
       "</div>\n",
       "      <button class=\"colab-df-convert\" onclick=\"convertToInteractive('df-63e835a3-1cc9-4da4-87b4-a069edcc6ce9')\"\n",
       "              title=\"Convert this dataframe to an interactive table.\"\n",
       "              style=\"display:none;\">\n",
       "        \n",
       "  <svg xmlns=\"http://www.w3.org/2000/svg\" height=\"24px\"viewBox=\"0 0 24 24\"\n",
       "       width=\"24px\">\n",
       "    <path d=\"M0 0h24v24H0V0z\" fill=\"none\"/>\n",
       "    <path d=\"M18.56 5.44l.94 2.06.94-2.06 2.06-.94-2.06-.94-.94-2.06-.94 2.06-2.06.94zm-11 1L8.5 8.5l.94-2.06 2.06-.94-2.06-.94L8.5 2.5l-.94 2.06-2.06.94zm10 10l.94 2.06.94-2.06 2.06-.94-2.06-.94-.94-2.06-.94 2.06-2.06.94z\"/><path d=\"M17.41 7.96l-1.37-1.37c-.4-.4-.92-.59-1.43-.59-.52 0-1.04.2-1.43.59L10.3 9.45l-7.72 7.72c-.78.78-.78 2.05 0 2.83L4 21.41c.39.39.9.59 1.41.59.51 0 1.02-.2 1.41-.59l7.78-7.78 2.81-2.81c.8-.78.8-2.07 0-2.86zM5.41 20L4 18.59l7.72-7.72 1.47 1.35L5.41 20z\"/>\n",
       "  </svg>\n",
       "      </button>\n",
       "      \n",
       "  <style>\n",
       "    .colab-df-container {\n",
       "      display:flex;\n",
       "      flex-wrap:wrap;\n",
       "      gap: 12px;\n",
       "    }\n",
       "\n",
       "    .colab-df-convert {\n",
       "      background-color: #E8F0FE;\n",
       "      border: none;\n",
       "      border-radius: 50%;\n",
       "      cursor: pointer;\n",
       "      display: none;\n",
       "      fill: #1967D2;\n",
       "      height: 32px;\n",
       "      padding: 0 0 0 0;\n",
       "      width: 32px;\n",
       "    }\n",
       "\n",
       "    .colab-df-convert:hover {\n",
       "      background-color: #E2EBFA;\n",
       "      box-shadow: 0px 1px 2px rgba(60, 64, 67, 0.3), 0px 1px 3px 1px rgba(60, 64, 67, 0.15);\n",
       "      fill: #174EA6;\n",
       "    }\n",
       "\n",
       "    [theme=dark] .colab-df-convert {\n",
       "      background-color: #3B4455;\n",
       "      fill: #D2E3FC;\n",
       "    }\n",
       "\n",
       "    [theme=dark] .colab-df-convert:hover {\n",
       "      background-color: #434B5C;\n",
       "      box-shadow: 0px 1px 3px 1px rgba(0, 0, 0, 0.15);\n",
       "      filter: drop-shadow(0px 1px 2px rgba(0, 0, 0, 0.3));\n",
       "      fill: #FFFFFF;\n",
       "    }\n",
       "  </style>\n",
       "\n",
       "      <script>\n",
       "        const buttonEl =\n",
       "          document.querySelector('#df-63e835a3-1cc9-4da4-87b4-a069edcc6ce9 button.colab-df-convert');\n",
       "        buttonEl.style.display =\n",
       "          google.colab.kernel.accessAllowed ? 'block' : 'none';\n",
       "\n",
       "        async function convertToInteractive(key) {\n",
       "          const element = document.querySelector('#df-63e835a3-1cc9-4da4-87b4-a069edcc6ce9');\n",
       "          const dataTable =\n",
       "            await google.colab.kernel.invokeFunction('convertToInteractive',\n",
       "                                                     [key], {});\n",
       "          if (!dataTable) return;\n",
       "\n",
       "          const docLinkHtml = 'Like what you see? Visit the ' +\n",
       "            '<a target=\"_blank\" href=https://colab.research.google.com/notebooks/data_table.ipynb>data table notebook</a>'\n",
       "            + ' to learn more about interactive tables.';\n",
       "          element.innerHTML = '';\n",
       "          dataTable['output_type'] = 'display_data';\n",
       "          await google.colab.output.renderOutput(dataTable, element);\n",
       "          const docLink = document.createElement('div');\n",
       "          docLink.innerHTML = docLinkHtml;\n",
       "          element.appendChild(docLink);\n",
       "        }\n",
       "      </script>\n",
       "    </div>\n",
       "  </div>\n",
       "  "
      ]
     },
     "metadata": {},
     "execution_count": 17
    }
   ]
  },
  {
   "cell_type": "markdown",
   "source": [
    "### 2.2. Normalize Feature Distributions"
   ],
   "metadata": {
    "id": "MhbilLhbZpsa",
    "pycharm": {
     "name": "#%% md\n"
    }
   }
  },
  {
   "cell_type": "markdown",
   "source": [
    "Normalization can help the MLP out if we shift and re-scale the ranges of each feature so they all have similar distributions, so we'll do normalization here.\n",
    "\n",
    "First, let's display the numerical features pre-transformation."
   ],
   "metadata": {
    "id": "3Y1OnqlaZriD",
    "pycharm": {
     "name": "#%% md\n"
    }
   }
  },
  {
   "cell_type": "code",
   "source": [
    "# Display the numerical features prior to our transformation.\n",
    "data_df[col_info['num_cols']].head()"
   ],
   "metadata": {
    "colab": {
     "base_uri": "https://localhost:8080/",
     "height": 206
    },
    "id": "x1ipIC3eY5BX",
    "outputId": "d1dba3f5-e794-4f1d-c581-47aa8209df10",
    "pycharm": {
     "name": "#%%\n"
    }
   },
   "execution_count": 18,
   "outputs": [
    {
     "output_type": "execute_result",
     "data": {
      "text/plain": [
       "        yearConstructed  noParkSpaces  livingSpace  noRooms  postcode\n",
       "192241           1900.0           0.0        50.00      2.0      1705\n",
       "131248           1912.0           1.0        98.87      4.0      2994\n",
       "64389            1968.0           0.0        49.00      2.0      2627\n",
       "155488           1969.0           0.0        68.00      3.0     70569\n",
       "87135            1992.0           1.0        95.00      3.0     35428"
      ],
      "text/html": [
       "\n",
       "  <div id=\"df-d5a81983-422f-4ece-a792-b6f3d00bd6c6\">\n",
       "    <div class=\"colab-df-container\">\n",
       "      <div>\n",
       "<style scoped>\n",
       "    .dataframe tbody tr th:only-of-type {\n",
       "        vertical-align: middle;\n",
       "    }\n",
       "\n",
       "    .dataframe tbody tr th {\n",
       "        vertical-align: top;\n",
       "    }\n",
       "\n",
       "    .dataframe thead th {\n",
       "        text-align: right;\n",
       "    }\n",
       "</style>\n",
       "<table border=\"1\" class=\"dataframe\">\n",
       "  <thead>\n",
       "    <tr style=\"text-align: right;\">\n",
       "      <th></th>\n",
       "      <th>yearConstructed</th>\n",
       "      <th>noParkSpaces</th>\n",
       "      <th>livingSpace</th>\n",
       "      <th>noRooms</th>\n",
       "      <th>postcode</th>\n",
       "    </tr>\n",
       "  </thead>\n",
       "  <tbody>\n",
       "    <tr>\n",
       "      <th>192241</th>\n",
       "      <td>1900.0</td>\n",
       "      <td>0.0</td>\n",
       "      <td>50.00</td>\n",
       "      <td>2.0</td>\n",
       "      <td>1705</td>\n",
       "    </tr>\n",
       "    <tr>\n",
       "      <th>131248</th>\n",
       "      <td>1912.0</td>\n",
       "      <td>1.0</td>\n",
       "      <td>98.87</td>\n",
       "      <td>4.0</td>\n",
       "      <td>2994</td>\n",
       "    </tr>\n",
       "    <tr>\n",
       "      <th>64389</th>\n",
       "      <td>1968.0</td>\n",
       "      <td>0.0</td>\n",
       "      <td>49.00</td>\n",
       "      <td>2.0</td>\n",
       "      <td>2627</td>\n",
       "    </tr>\n",
       "    <tr>\n",
       "      <th>155488</th>\n",
       "      <td>1969.0</td>\n",
       "      <td>0.0</td>\n",
       "      <td>68.00</td>\n",
       "      <td>3.0</td>\n",
       "      <td>70569</td>\n",
       "    </tr>\n",
       "    <tr>\n",
       "      <th>87135</th>\n",
       "      <td>1992.0</td>\n",
       "      <td>1.0</td>\n",
       "      <td>95.00</td>\n",
       "      <td>3.0</td>\n",
       "      <td>35428</td>\n",
       "    </tr>\n",
       "  </tbody>\n",
       "</table>\n",
       "</div>\n",
       "      <button class=\"colab-df-convert\" onclick=\"convertToInteractive('df-d5a81983-422f-4ece-a792-b6f3d00bd6c6')\"\n",
       "              title=\"Convert this dataframe to an interactive table.\"\n",
       "              style=\"display:none;\">\n",
       "        \n",
       "  <svg xmlns=\"http://www.w3.org/2000/svg\" height=\"24px\"viewBox=\"0 0 24 24\"\n",
       "       width=\"24px\">\n",
       "    <path d=\"M0 0h24v24H0V0z\" fill=\"none\"/>\n",
       "    <path d=\"M18.56 5.44l.94 2.06.94-2.06 2.06-.94-2.06-.94-.94-2.06-.94 2.06-2.06.94zm-11 1L8.5 8.5l.94-2.06 2.06-.94-2.06-.94L8.5 2.5l-.94 2.06-2.06.94zm10 10l.94 2.06.94-2.06 2.06-.94-2.06-.94-.94-2.06-.94 2.06-2.06.94z\"/><path d=\"M17.41 7.96l-1.37-1.37c-.4-.4-.92-.59-1.43-.59-.52 0-1.04.2-1.43.59L10.3 9.45l-7.72 7.72c-.78.78-.78 2.05 0 2.83L4 21.41c.39.39.9.59 1.41.59.51 0 1.02-.2 1.41-.59l7.78-7.78 2.81-2.81c.8-.78.8-2.07 0-2.86zM5.41 20L4 18.59l7.72-7.72 1.47 1.35L5.41 20z\"/>\n",
       "  </svg>\n",
       "      </button>\n",
       "      \n",
       "  <style>\n",
       "    .colab-df-container {\n",
       "      display:flex;\n",
       "      flex-wrap:wrap;\n",
       "      gap: 12px;\n",
       "    }\n",
       "\n",
       "    .colab-df-convert {\n",
       "      background-color: #E8F0FE;\n",
       "      border: none;\n",
       "      border-radius: 50%;\n",
       "      cursor: pointer;\n",
       "      display: none;\n",
       "      fill: #1967D2;\n",
       "      height: 32px;\n",
       "      padding: 0 0 0 0;\n",
       "      width: 32px;\n",
       "    }\n",
       "\n",
       "    .colab-df-convert:hover {\n",
       "      background-color: #E2EBFA;\n",
       "      box-shadow: 0px 1px 2px rgba(60, 64, 67, 0.3), 0px 1px 3px 1px rgba(60, 64, 67, 0.15);\n",
       "      fill: #174EA6;\n",
       "    }\n",
       "\n",
       "    [theme=dark] .colab-df-convert {\n",
       "      background-color: #3B4455;\n",
       "      fill: #D2E3FC;\n",
       "    }\n",
       "\n",
       "    [theme=dark] .colab-df-convert:hover {\n",
       "      background-color: #434B5C;\n",
       "      box-shadow: 0px 1px 3px 1px rgba(0, 0, 0, 0.15);\n",
       "      filter: drop-shadow(0px 1px 2px rgba(0, 0, 0, 0.3));\n",
       "      fill: #FFFFFF;\n",
       "    }\n",
       "  </style>\n",
       "\n",
       "      <script>\n",
       "        const buttonEl =\n",
       "          document.querySelector('#df-d5a81983-422f-4ece-a792-b6f3d00bd6c6 button.colab-df-convert');\n",
       "        buttonEl.style.display =\n",
       "          google.colab.kernel.accessAllowed ? 'block' : 'none';\n",
       "\n",
       "        async function convertToInteractive(key) {\n",
       "          const element = document.querySelector('#df-d5a81983-422f-4ece-a792-b6f3d00bd6c6');\n",
       "          const dataTable =\n",
       "            await google.colab.kernel.invokeFunction('convertToInteractive',\n",
       "                                                     [key], {});\n",
       "          if (!dataTable) return;\n",
       "\n",
       "          const docLinkHtml = 'Like what you see? Visit the ' +\n",
       "            '<a target=\"_blank\" href=https://colab.research.google.com/notebooks/data_table.ipynb>data table notebook</a>'\n",
       "            + ' to learn more about interactive tables.';\n",
       "          element.innerHTML = '';\n",
       "          dataTable['output_type'] = 'display_data';\n",
       "          await google.colab.output.renderOutput(dataTable, element);\n",
       "          const docLink = document.createElement('div');\n",
       "          docLink.innerHTML = docLinkHtml;\n",
       "          element.appendChild(docLink);\n",
       "        }\n",
       "      </script>\n",
       "    </div>\n",
       "  </div>\n",
       "  "
      ]
     },
     "metadata": {},
     "execution_count": 18
    }
   ]
  },
  {
   "cell_type": "code",
   "source": [
    "from sklearn.preprocessing import QuantileTransformer\n",
    "\n",
    "# Disable those pesky \"SettingWithCopyWarning\" messages.\n",
    "pd.options.mode.chained_assignment = None  # default='warn'\n",
    "\n",
    "# For each of the numerical featuress...\n",
    "for col_name in col_info['num_cols']:\n",
    "    \n",
    "    # Select the column.\n",
    "    num_df = data_df[col_name]\n",
    "\n",
    "    # Replace any empty cells with 0.\n",
    "    num_df.replace('', 0, inplace=True)\n",
    "\n",
    "    # The column values are a 1D array, but the transformation function requires\n",
    "    # it to be a 2D array. Reshape it into a column vector. \n",
    "    col_values = num_df.values.reshape(-1, 1)\n",
    "\n",
    "    # Create a quantile transformer that transforms the feature\n",
    "    # to have a normal distribution.\n",
    "    numerical_transformer = QuantileTransformer(output_distribution='normal')\n",
    "    \n",
    "    # Apply the transformation.\n",
    "    col_values_norm = numerical_transformer.fit_transform(col_values)\n",
    "\n",
    "    # Replace the values with the normalized ones.\n",
    "    data_df[col_name] = col_values_norm\n"
   ],
   "metadata": {
    "id": "DUS7mT6nY5D4",
    "pycharm": {
     "name": "#%%\n"
    }
   },
   "execution_count": 19,
   "outputs": []
  },
  {
   "cell_type": "code",
   "source": [
    "# Display the numerical features after transformation.\n",
    "data_df[col_info['num_cols']].head()"
   ],
   "metadata": {
    "colab": {
     "base_uri": "https://localhost:8080/",
     "height": 206
    },
    "id": "rGIlyk5JY5GL",
    "outputId": "793fd060-29cd-4ed8-eb35-fc42d3ac429d",
    "pycharm": {
     "name": "#%%\n"
    }
   },
   "execution_count": 20,
   "outputs": [
    {
     "output_type": "execute_result",
     "data": {
      "text/plain": [
       "        yearConstructed  noParkSpaces  livingSpace   noRooms  postcode\n",
       "192241        -1.649237     -5.199338    -0.844485 -0.552537 -1.773922\n",
       "131248        -1.171890      0.931971     1.061725  1.453280 -1.537691\n",
       "64389         -0.384375     -5.199338    -0.905189 -0.552537 -1.634517\n",
       "155488        -0.360172     -5.199338     0.060256  0.447305  1.088776\n",
       "87135          0.686350      0.931971     0.971436  0.447305 -0.023496"
      ],
      "text/html": [
       "\n",
       "  <div id=\"df-7e47450e-84a8-43a4-9d15-69f141063230\">\n",
       "    <div class=\"colab-df-container\">\n",
       "      <div>\n",
       "<style scoped>\n",
       "    .dataframe tbody tr th:only-of-type {\n",
       "        vertical-align: middle;\n",
       "    }\n",
       "\n",
       "    .dataframe tbody tr th {\n",
       "        vertical-align: top;\n",
       "    }\n",
       "\n",
       "    .dataframe thead th {\n",
       "        text-align: right;\n",
       "    }\n",
       "</style>\n",
       "<table border=\"1\" class=\"dataframe\">\n",
       "  <thead>\n",
       "    <tr style=\"text-align: right;\">\n",
       "      <th></th>\n",
       "      <th>yearConstructed</th>\n",
       "      <th>noParkSpaces</th>\n",
       "      <th>livingSpace</th>\n",
       "      <th>noRooms</th>\n",
       "      <th>postcode</th>\n",
       "    </tr>\n",
       "  </thead>\n",
       "  <tbody>\n",
       "    <tr>\n",
       "      <th>192241</th>\n",
       "      <td>-1.649237</td>\n",
       "      <td>-5.199338</td>\n",
       "      <td>-0.844485</td>\n",
       "      <td>-0.552537</td>\n",
       "      <td>-1.773922</td>\n",
       "    </tr>\n",
       "    <tr>\n",
       "      <th>131248</th>\n",
       "      <td>-1.171890</td>\n",
       "      <td>0.931971</td>\n",
       "      <td>1.061725</td>\n",
       "      <td>1.453280</td>\n",
       "      <td>-1.537691</td>\n",
       "    </tr>\n",
       "    <tr>\n",
       "      <th>64389</th>\n",
       "      <td>-0.384375</td>\n",
       "      <td>-5.199338</td>\n",
       "      <td>-0.905189</td>\n",
       "      <td>-0.552537</td>\n",
       "      <td>-1.634517</td>\n",
       "    </tr>\n",
       "    <tr>\n",
       "      <th>155488</th>\n",
       "      <td>-0.360172</td>\n",
       "      <td>-5.199338</td>\n",
       "      <td>0.060256</td>\n",
       "      <td>0.447305</td>\n",
       "      <td>1.088776</td>\n",
       "    </tr>\n",
       "    <tr>\n",
       "      <th>87135</th>\n",
       "      <td>0.686350</td>\n",
       "      <td>0.931971</td>\n",
       "      <td>0.971436</td>\n",
       "      <td>0.447305</td>\n",
       "      <td>-0.023496</td>\n",
       "    </tr>\n",
       "  </tbody>\n",
       "</table>\n",
       "</div>\n",
       "      <button class=\"colab-df-convert\" onclick=\"convertToInteractive('df-7e47450e-84a8-43a4-9d15-69f141063230')\"\n",
       "              title=\"Convert this dataframe to an interactive table.\"\n",
       "              style=\"display:none;\">\n",
       "        \n",
       "  <svg xmlns=\"http://www.w3.org/2000/svg\" height=\"24px\"viewBox=\"0 0 24 24\"\n",
       "       width=\"24px\">\n",
       "    <path d=\"M0 0h24v24H0V0z\" fill=\"none\"/>\n",
       "    <path d=\"M18.56 5.44l.94 2.06.94-2.06 2.06-.94-2.06-.94-.94-2.06-.94 2.06-2.06.94zm-11 1L8.5 8.5l.94-2.06 2.06-.94-2.06-.94L8.5 2.5l-.94 2.06-2.06.94zm10 10l.94 2.06.94-2.06 2.06-.94-2.06-.94-.94-2.06-.94 2.06-2.06.94z\"/><path d=\"M17.41 7.96l-1.37-1.37c-.4-.4-.92-.59-1.43-.59-.52 0-1.04.2-1.43.59L10.3 9.45l-7.72 7.72c-.78.78-.78 2.05 0 2.83L4 21.41c.39.39.9.59 1.41.59.51 0 1.02-.2 1.41-.59l7.78-7.78 2.81-2.81c.8-.78.8-2.07 0-2.86zM5.41 20L4 18.59l7.72-7.72 1.47 1.35L5.41 20z\"/>\n",
       "  </svg>\n",
       "      </button>\n",
       "      \n",
       "  <style>\n",
       "    .colab-df-container {\n",
       "      display:flex;\n",
       "      flex-wrap:wrap;\n",
       "      gap: 12px;\n",
       "    }\n",
       "\n",
       "    .colab-df-convert {\n",
       "      background-color: #E8F0FE;\n",
       "      border: none;\n",
       "      border-radius: 50%;\n",
       "      cursor: pointer;\n",
       "      display: none;\n",
       "      fill: #1967D2;\n",
       "      height: 32px;\n",
       "      padding: 0 0 0 0;\n",
       "      width: 32px;\n",
       "    }\n",
       "\n",
       "    .colab-df-convert:hover {\n",
       "      background-color: #E2EBFA;\n",
       "      box-shadow: 0px 1px 2px rgba(60, 64, 67, 0.3), 0px 1px 3px 1px rgba(60, 64, 67, 0.15);\n",
       "      fill: #174EA6;\n",
       "    }\n",
       "\n",
       "    [theme=dark] .colab-df-convert {\n",
       "      background-color: #3B4455;\n",
       "      fill: #D2E3FC;\n",
       "    }\n",
       "\n",
       "    [theme=dark] .colab-df-convert:hover {\n",
       "      background-color: #434B5C;\n",
       "      box-shadow: 0px 1px 3px 1px rgba(0, 0, 0, 0.15);\n",
       "      filter: drop-shadow(0px 1px 2px rgba(0, 0, 0, 0.3));\n",
       "      fill: #FFFFFF;\n",
       "    }\n",
       "  </style>\n",
       "\n",
       "      <script>\n",
       "        const buttonEl =\n",
       "          document.querySelector('#df-7e47450e-84a8-43a4-9d15-69f141063230 button.colab-df-convert');\n",
       "        buttonEl.style.display =\n",
       "          google.colab.kernel.accessAllowed ? 'block' : 'none';\n",
       "\n",
       "        async function convertToInteractive(key) {\n",
       "          const element = document.querySelector('#df-7e47450e-84a8-43a4-9d15-69f141063230');\n",
       "          const dataTable =\n",
       "            await google.colab.kernel.invokeFunction('convertToInteractive',\n",
       "                                                     [key], {});\n",
       "          if (!dataTable) return;\n",
       "\n",
       "          const docLinkHtml = 'Like what you see? Visit the ' +\n",
       "            '<a target=\"_blank\" href=https://colab.research.google.com/notebooks/data_table.ipynb>data table notebook</a>'\n",
       "            + ' to learn more about interactive tables.';\n",
       "          element.innerHTML = '';\n",
       "          dataTable['output_type'] = 'display_data';\n",
       "          await google.colab.output.renderOutput(dataTable, element);\n",
       "          const docLink = document.createElement('div');\n",
       "          docLink.innerHTML = docLinkHtml;\n",
       "          element.appendChild(docLink);\n",
       "        }\n",
       "      </script>\n",
       "    </div>\n",
       "  </div>\n",
       "  "
      ]
     },
     "metadata": {},
     "execution_count": 20
    }
   ]
  },
  {
   "cell_type": "markdown",
   "source": [
    "### 3.1. Combine Text"
   ],
   "metadata": {
    "id": "Xh-K62ZkaEHt",
    "pycharm": {
     "name": "#%% md\n"
    }
   }
  },
  {
   "cell_type": "markdown",
   "source": [
    "Loop through the dataset and concatenate all of the text features together.\n"
   ],
   "metadata": {
    "id": "dODuMjquaHEj",
    "pycharm": {
     "name": "#%% md\n"
    }
   }
  },
  {
   "cell_type": "code",
   "source": [
    "text_combined = []\n",
    "\n",
    "print('Combining all text features...')\n",
    "\n",
    "# For each sample...\n",
    "for (i, row) in data_df.iterrows():\n",
    "\n",
    "    combined = ''\n",
    "\n",
    "    # For each of the text columns...\n",
    "    for text_col in col_info['text_cols']:\n",
    "        \n",
    "        # Append the feature to the combined text, with a 'SEP' token in between.\n",
    "        combined += (str(row[text_col]) + ' [SEP] ')\n",
    "\n",
    "    text_combined.append(combined)\n",
    "\n",
    "# Sanity check that the resulting list is the same length as the data frame.\n",
    "assert(len(text_combined) == len(data_df))\n",
    "\n",
    "print('  DONE.')"
   ],
   "metadata": {
    "colab": {
     "base_uri": "https://localhost:8080/"
    },
    "id": "J5OwumwsaFfr",
    "outputId": "a56090e1-f407-4a05-a1d5-f3db410bc9ec",
    "pycharm": {
     "name": "#%%\n"
    }
   },
   "execution_count": 21,
   "outputs": [
    {
     "output_type": "stream",
     "name": "stdout",
     "text": [
      "Combining all text features...\n",
      "  DONE.\n"
     ]
    }
   ]
  },
  {
   "cell_type": "code",
   "source": [
    "# Remove the original text feature columns.\n",
    "data_df = data_df.drop(columns = col_info['text_cols'])\n",
    "\n",
    "# Add the combined text as the first column.\n",
    "data_df.insert(0, 'text', text_combined)\n",
    "\n",
    "data_df.head()"
   ],
   "metadata": {
    "colab": {
     "base_uri": "https://localhost:8080/",
     "height": 461
    },
    "id": "UQze7WO2Y5If",
    "outputId": "360026a5-ca77-4910-c231-67de8acd285c",
    "pycharm": {
     "name": "#%%\n"
    }
   },
   "execution_count": 22,
   "outputs": [
    {
     "output_type": "execute_result",
     "data": {
      "text/plain": [
       "                                                     text  yearConstructed  \\\n",
       "192241  Sachsen [SEP] central_heating [SEP] well_kept ...        -1.649237   \n",
       "131248  Sachsen [SEP] central_heating [SEP] refurbishe...        -1.171890   \n",
       "64389   Sachsen [SEP]  [SEP]  [SEP] NO_INFORMATION [SE...        -0.384375   \n",
       "155488  Baden_Württemberg [SEP] self_contained_central...        -0.360172   \n",
       "87135   Hessen [SEP] central_heating [SEP] well_kept [...         0.686350   \n",
       "\n",
       "        noParkSpaces  livingSpace   noRooms  postcode  newlyConst  balcony  \\\n",
       "192241     -5.199338    -0.844485 -0.552537 -1.773922         0.0      0.0   \n",
       "131248      0.931971     1.061725  1.453280 -1.537691         0.0      0.0   \n",
       "64389      -5.199338    -0.905189 -0.552537 -1.634517         0.0      0.0   \n",
       "155488     -5.199338     0.060256  0.447305  1.088776         0.0      1.0   \n",
       "87135       0.931971     0.971436  0.447305 -0.023496         0.0      1.0   \n",
       "\n",
       "        kitchen  cellar  lift  garden   rent  split  \n",
       "192241      1.0     1.0   0.0     1.0  410.0  train  \n",
       "131248      0.0     1.0   0.0     0.0  762.0  train  \n",
       "64389       0.0     0.0   0.0     0.0  318.5  train  \n",
       "155488      0.0     1.0   0.0     0.0  930.0  train  \n",
       "87135       0.0     1.0   0.0     0.0  850.0  train  "
      ],
      "text/html": [
       "\n",
       "  <div id=\"df-dcdfab44-a17e-44fc-a7a8-da779e424235\">\n",
       "    <div class=\"colab-df-container\">\n",
       "      <div>\n",
       "<style scoped>\n",
       "    .dataframe tbody tr th:only-of-type {\n",
       "        vertical-align: middle;\n",
       "    }\n",
       "\n",
       "    .dataframe tbody tr th {\n",
       "        vertical-align: top;\n",
       "    }\n",
       "\n",
       "    .dataframe thead th {\n",
       "        text-align: right;\n",
       "    }\n",
       "</style>\n",
       "<table border=\"1\" class=\"dataframe\">\n",
       "  <thead>\n",
       "    <tr style=\"text-align: right;\">\n",
       "      <th></th>\n",
       "      <th>text</th>\n",
       "      <th>yearConstructed</th>\n",
       "      <th>noParkSpaces</th>\n",
       "      <th>livingSpace</th>\n",
       "      <th>noRooms</th>\n",
       "      <th>postcode</th>\n",
       "      <th>newlyConst</th>\n",
       "      <th>balcony</th>\n",
       "      <th>kitchen</th>\n",
       "      <th>cellar</th>\n",
       "      <th>lift</th>\n",
       "      <th>garden</th>\n",
       "      <th>rent</th>\n",
       "      <th>split</th>\n",
       "    </tr>\n",
       "  </thead>\n",
       "  <tbody>\n",
       "    <tr>\n",
       "      <th>192241</th>\n",
       "      <td>Sachsen [SEP] central_heating [SEP] well_kept ...</td>\n",
       "      <td>-1.649237</td>\n",
       "      <td>-5.199338</td>\n",
       "      <td>-0.844485</td>\n",
       "      <td>-0.552537</td>\n",
       "      <td>-1.773922</td>\n",
       "      <td>0.0</td>\n",
       "      <td>0.0</td>\n",
       "      <td>1.0</td>\n",
       "      <td>1.0</td>\n",
       "      <td>0.0</td>\n",
       "      <td>1.0</td>\n",
       "      <td>410.0</td>\n",
       "      <td>train</td>\n",
       "    </tr>\n",
       "    <tr>\n",
       "      <th>131248</th>\n",
       "      <td>Sachsen [SEP] central_heating [SEP] refurbishe...</td>\n",
       "      <td>-1.171890</td>\n",
       "      <td>0.931971</td>\n",
       "      <td>1.061725</td>\n",
       "      <td>1.453280</td>\n",
       "      <td>-1.537691</td>\n",
       "      <td>0.0</td>\n",
       "      <td>0.0</td>\n",
       "      <td>0.0</td>\n",
       "      <td>1.0</td>\n",
       "      <td>0.0</td>\n",
       "      <td>0.0</td>\n",
       "      <td>762.0</td>\n",
       "      <td>train</td>\n",
       "    </tr>\n",
       "    <tr>\n",
       "      <th>64389</th>\n",
       "      <td>Sachsen [SEP]  [SEP]  [SEP] NO_INFORMATION [SE...</td>\n",
       "      <td>-0.384375</td>\n",
       "      <td>-5.199338</td>\n",
       "      <td>-0.905189</td>\n",
       "      <td>-0.552537</td>\n",
       "      <td>-1.634517</td>\n",
       "      <td>0.0</td>\n",
       "      <td>0.0</td>\n",
       "      <td>0.0</td>\n",
       "      <td>0.0</td>\n",
       "      <td>0.0</td>\n",
       "      <td>0.0</td>\n",
       "      <td>318.5</td>\n",
       "      <td>train</td>\n",
       "    </tr>\n",
       "    <tr>\n",
       "      <th>155488</th>\n",
       "      <td>Baden_Württemberg [SEP] self_contained_central...</td>\n",
       "      <td>-0.360172</td>\n",
       "      <td>-5.199338</td>\n",
       "      <td>0.060256</td>\n",
       "      <td>0.447305</td>\n",
       "      <td>1.088776</td>\n",
       "      <td>0.0</td>\n",
       "      <td>1.0</td>\n",
       "      <td>0.0</td>\n",
       "      <td>1.0</td>\n",
       "      <td>0.0</td>\n",
       "      <td>0.0</td>\n",
       "      <td>930.0</td>\n",
       "      <td>train</td>\n",
       "    </tr>\n",
       "    <tr>\n",
       "      <th>87135</th>\n",
       "      <td>Hessen [SEP] central_heating [SEP] well_kept [...</td>\n",
       "      <td>0.686350</td>\n",
       "      <td>0.931971</td>\n",
       "      <td>0.971436</td>\n",
       "      <td>0.447305</td>\n",
       "      <td>-0.023496</td>\n",
       "      <td>0.0</td>\n",
       "      <td>1.0</td>\n",
       "      <td>0.0</td>\n",
       "      <td>1.0</td>\n",
       "      <td>0.0</td>\n",
       "      <td>0.0</td>\n",
       "      <td>850.0</td>\n",
       "      <td>train</td>\n",
       "    </tr>\n",
       "  </tbody>\n",
       "</table>\n",
       "</div>\n",
       "      <button class=\"colab-df-convert\" onclick=\"convertToInteractive('df-dcdfab44-a17e-44fc-a7a8-da779e424235')\"\n",
       "              title=\"Convert this dataframe to an interactive table.\"\n",
       "              style=\"display:none;\">\n",
       "        \n",
       "  <svg xmlns=\"http://www.w3.org/2000/svg\" height=\"24px\"viewBox=\"0 0 24 24\"\n",
       "       width=\"24px\">\n",
       "    <path d=\"M0 0h24v24H0V0z\" fill=\"none\"/>\n",
       "    <path d=\"M18.56 5.44l.94 2.06.94-2.06 2.06-.94-2.06-.94-.94-2.06-.94 2.06-2.06.94zm-11 1L8.5 8.5l.94-2.06 2.06-.94-2.06-.94L8.5 2.5l-.94 2.06-2.06.94zm10 10l.94 2.06.94-2.06 2.06-.94-2.06-.94-.94-2.06-.94 2.06-2.06.94z\"/><path d=\"M17.41 7.96l-1.37-1.37c-.4-.4-.92-.59-1.43-.59-.52 0-1.04.2-1.43.59L10.3 9.45l-7.72 7.72c-.78.78-.78 2.05 0 2.83L4 21.41c.39.39.9.59 1.41.59.51 0 1.02-.2 1.41-.59l7.78-7.78 2.81-2.81c.8-.78.8-2.07 0-2.86zM5.41 20L4 18.59l7.72-7.72 1.47 1.35L5.41 20z\"/>\n",
       "  </svg>\n",
       "      </button>\n",
       "      \n",
       "  <style>\n",
       "    .colab-df-container {\n",
       "      display:flex;\n",
       "      flex-wrap:wrap;\n",
       "      gap: 12px;\n",
       "    }\n",
       "\n",
       "    .colab-df-convert {\n",
       "      background-color: #E8F0FE;\n",
       "      border: none;\n",
       "      border-radius: 50%;\n",
       "      cursor: pointer;\n",
       "      display: none;\n",
       "      fill: #1967D2;\n",
       "      height: 32px;\n",
       "      padding: 0 0 0 0;\n",
       "      width: 32px;\n",
       "    }\n",
       "\n",
       "    .colab-df-convert:hover {\n",
       "      background-color: #E2EBFA;\n",
       "      box-shadow: 0px 1px 2px rgba(60, 64, 67, 0.3), 0px 1px 3px 1px rgba(60, 64, 67, 0.15);\n",
       "      fill: #174EA6;\n",
       "    }\n",
       "\n",
       "    [theme=dark] .colab-df-convert {\n",
       "      background-color: #3B4455;\n",
       "      fill: #D2E3FC;\n",
       "    }\n",
       "\n",
       "    [theme=dark] .colab-df-convert:hover {\n",
       "      background-color: #434B5C;\n",
       "      box-shadow: 0px 1px 3px 1px rgba(0, 0, 0, 0.15);\n",
       "      filter: drop-shadow(0px 1px 2px rgba(0, 0, 0, 0.3));\n",
       "      fill: #FFFFFF;\n",
       "    }\n",
       "  </style>\n",
       "\n",
       "      <script>\n",
       "        const buttonEl =\n",
       "          document.querySelector('#df-dcdfab44-a17e-44fc-a7a8-da779e424235 button.colab-df-convert');\n",
       "        buttonEl.style.display =\n",
       "          google.colab.kernel.accessAllowed ? 'block' : 'none';\n",
       "\n",
       "        async function convertToInteractive(key) {\n",
       "          const element = document.querySelector('#df-dcdfab44-a17e-44fc-a7a8-da779e424235');\n",
       "          const dataTable =\n",
       "            await google.colab.kernel.invokeFunction('convertToInteractive',\n",
       "                                                     [key], {});\n",
       "          if (!dataTable) return;\n",
       "\n",
       "          const docLinkHtml = 'Like what you see? Visit the ' +\n",
       "            '<a target=\"_blank\" href=https://colab.research.google.com/notebooks/data_table.ipynb>data table notebook</a>'\n",
       "            + ' to learn more about interactive tables.';\n",
       "          element.innerHTML = '';\n",
       "          dataTable['output_type'] = 'display_data';\n",
       "          await google.colab.output.renderOutput(dataTable, element);\n",
       "          const docLink = document.createElement('div');\n",
       "          docLink.innerHTML = docLinkHtml;\n",
       "          element.appendChild(docLink);\n",
       "        }\n",
       "      </script>\n",
       "    </div>\n",
       "  </div>\n",
       "  "
      ]
     },
     "metadata": {},
     "execution_count": 22
    }
   ]
  },
  {
   "cell_type": "code",
   "source": [
    "!pip install transformers"
   ],
   "metadata": {
    "colab": {
     "base_uri": "https://localhost:8080/"
    },
    "id": "4xdgK-v2Y5K0",
    "outputId": "05556983-2d75-4f59-a7fd-70ac306dde65",
    "pycharm": {
     "name": "#%%\n"
    }
   },
   "execution_count": 23,
   "outputs": [
    {
     "output_type": "stream",
     "name": "stdout",
     "text": [
      "Requirement already satisfied: transformers in /usr/local/lib/python3.7/dist-packages (4.18.0)\n",
      "Requirement already satisfied: requests in /usr/local/lib/python3.7/dist-packages (from transformers) (2.23.0)\n",
      "Requirement already satisfied: tokenizers!=0.11.3,<0.13,>=0.11.1 in /usr/local/lib/python3.7/dist-packages (from transformers) (0.12.1)\n",
      "Requirement already satisfied: pyyaml>=5.1 in /usr/local/lib/python3.7/dist-packages (from transformers) (6.0)\n",
      "Requirement already satisfied: numpy>=1.17 in /usr/local/lib/python3.7/dist-packages (from transformers) (1.21.6)\n",
      "Requirement already satisfied: regex!=2019.12.17 in /usr/local/lib/python3.7/dist-packages (from transformers) (2019.12.20)\n",
      "Requirement already satisfied: importlib-metadata in /usr/local/lib/python3.7/dist-packages (from transformers) (4.11.3)\n",
      "Requirement already satisfied: tqdm>=4.27 in /usr/local/lib/python3.7/dist-packages (from transformers) (4.64.0)\n",
      "Requirement already satisfied: sacremoses in /usr/local/lib/python3.7/dist-packages (from transformers) (0.0.49)\n",
      "Requirement already satisfied: filelock in /usr/local/lib/python3.7/dist-packages (from transformers) (3.6.0)\n",
      "Requirement already satisfied: packaging>=20.0 in /usr/local/lib/python3.7/dist-packages (from transformers) (21.3)\n",
      "Requirement already satisfied: huggingface-hub<1.0,>=0.1.0 in /usr/local/lib/python3.7/dist-packages (from transformers) (0.5.1)\n",
      "Requirement already satisfied: typing-extensions>=3.7.4.3 in /usr/local/lib/python3.7/dist-packages (from huggingface-hub<1.0,>=0.1.0->transformers) (4.1.1)\n",
      "Requirement already satisfied: pyparsing!=3.0.5,>=2.0.2 in /usr/local/lib/python3.7/dist-packages (from packaging>=20.0->transformers) (3.0.8)\n",
      "Requirement already satisfied: zipp>=0.5 in /usr/local/lib/python3.7/dist-packages (from importlib-metadata->transformers) (3.8.0)\n",
      "Requirement already satisfied: idna<3,>=2.5 in /usr/local/lib/python3.7/dist-packages (from requests->transformers) (2.10)\n",
      "Requirement already satisfied: chardet<4,>=3.0.2 in /usr/local/lib/python3.7/dist-packages (from requests->transformers) (3.0.4)\n",
      "Requirement already satisfied: certifi>=2017.4.17 in /usr/local/lib/python3.7/dist-packages (from requests->transformers) (2021.10.8)\n",
      "Requirement already satisfied: urllib3!=1.25.0,!=1.25.1,<1.26,>=1.21.1 in /usr/local/lib/python3.7/dist-packages (from requests->transformers) (1.24.3)\n",
      "Requirement already satisfied: click in /usr/local/lib/python3.7/dist-packages (from sacremoses->transformers) (7.1.2)\n",
      "Requirement already satisfied: joblib in /usr/local/lib/python3.7/dist-packages (from sacremoses->transformers) (1.1.0)\n",
      "Requirement already satisfied: six in /usr/local/lib/python3.7/dist-packages (from sacremoses->transformers) (1.15.0)\n"
     ]
    }
   ]
  },
  {
   "cell_type": "code",
   "source": [
    "from transformers import BertTokenizer\n",
    "from transformers import AutoTokenizer, AutoModelForMaskedLM\n",
    "\n",
    "tokenizer = AutoTokenizer.from_pretrained(\"bert-base-german-cased\")\n",
    "\n",
    "# Load the BERT tokenizer.\n",
    "print('Loading BERT tokenizer...')\n",
    "# tokenizer = BertTokenizer.from_pretrained('bert-base-uncased', do_lower_case=True)"
   ],
   "metadata": {
    "colab": {
     "base_uri": "https://localhost:8080/"
    },
    "id": "VECF6-jeY5NQ",
    "outputId": "24f2696b-5c3f-49d4-d611-898180ce7fcc",
    "pycharm": {
     "name": "#%%\n"
    }
   },
   "execution_count": 24,
   "outputs": [
    {
     "output_type": "stream",
     "name": "stdout",
     "text": [
      "Loading BERT tokenizer...\n"
     ]
    }
   ]
  },
  {
   "cell_type": "markdown",
   "source": [
    "Another key parameter is our \"maximum sequence length\", which we will truncate or pad all of our samples to. Setting this to a higher value requires more memory and slows down training, so we want to see how short we can get away with.\n",
    "\n",
    "We'll run a pass over the dataset to find the longest sequence and use this to inform our choice. "
   ],
   "metadata": {
    "id": "F5W3-iVkafHO",
    "pycharm": {
     "name": "#%% md\n"
    }
   }
  },
  {
   "cell_type": "code",
   "source": [
    "import numpy as np\n",
    "\n",
    "analyze_lengths = True\n",
    "\n",
    "if analyze_lengths:\n",
    "    \n",
    "    seq_lens = []\n",
    "\n",
    "    print('Tokenizing all {:,} samples to measure lengths...'.format(len(text_combined)))\n",
    "\n",
    "    # For each of the samples...\n",
    "    for (i, text) in enumerate(text_combined):\n",
    "\n",
    "        # Print progress every 2k samples.\n",
    "        if ((i % 2000) == 0):\n",
    "            print('  {:>6,}'.format(i))\n",
    "\n",
    "        # Tokenize the text.\n",
    "        input_ids = tokenizer.encode(text)\n",
    "\n",
    "        # Store the length.\n",
    "        seq_lens.append(len(input_ids))\n",
    "\n",
    "    print('DONE.\\n')\n",
    "\n",
    "    print('Longest sequence: ', max(seq_lens))\n",
    "    print('Median:', round(np.median(seq_lens)))\n",
    "\n",
    "    # Plot a histogram of the rental prices.\n",
    "    ax = sns.histplot(seq_lens, bins=30)\n",
    "\n",
    "    t = ax.set_title('Histogram of Sequence Lengths')\n"
   ],
   "metadata": {
    "colab": {
     "base_uri": "https://localhost:8080/",
     "height": 1000
    },
    "id": "kO1u8p6pY5P7",
    "outputId": "8107f6fb-ec12-4c09-ceb8-2f0bb4f3bc73",
    "pycharm": {
     "name": "#%%\n"
    }
   },
   "execution_count": 25,
   "outputs": [
    {
     "output_type": "stream",
     "name": "stderr",
     "text": [
      "Token indices sequence length is longer than the specified maximum sequence length for this model (526 > 512). Running this sequence through the model will result in indexing errors\n"
     ]
    },
    {
     "output_type": "stream",
     "name": "stdout",
     "text": [
      "Tokenizing all 217,017 samples to measure lengths...\n",
      "       0\n",
      "   2,000\n",
      "   4,000\n",
      "   6,000\n",
      "   8,000\n",
      "  10,000\n",
      "  12,000\n",
      "  14,000\n",
      "  16,000\n",
      "  18,000\n",
      "  20,000\n",
      "  22,000\n",
      "  24,000\n",
      "  26,000\n",
      "  28,000\n",
      "  30,000\n",
      "  32,000\n",
      "  34,000\n",
      "  36,000\n",
      "  38,000\n",
      "  40,000\n",
      "  42,000\n",
      "  44,000\n",
      "  46,000\n",
      "  48,000\n",
      "  50,000\n",
      "  52,000\n",
      "  54,000\n",
      "  56,000\n",
      "  58,000\n",
      "  60,000\n",
      "  62,000\n",
      "  64,000\n",
      "  66,000\n",
      "  68,000\n",
      "  70,000\n",
      "  72,000\n",
      "  74,000\n",
      "  76,000\n",
      "  78,000\n",
      "  80,000\n",
      "  82,000\n",
      "  84,000\n",
      "  86,000\n",
      "  88,000\n",
      "  90,000\n",
      "  92,000\n",
      "  94,000\n",
      "  96,000\n",
      "  98,000\n",
      "  100,000\n",
      "  102,000\n",
      "  104,000\n",
      "  106,000\n",
      "  108,000\n",
      "  110,000\n",
      "  112,000\n",
      "  114,000\n",
      "  116,000\n",
      "  118,000\n",
      "  120,000\n",
      "  122,000\n",
      "  124,000\n",
      "  126,000\n",
      "  128,000\n",
      "  130,000\n",
      "  132,000\n",
      "  134,000\n",
      "  136,000\n",
      "  138,000\n",
      "  140,000\n",
      "  142,000\n",
      "  144,000\n",
      "  146,000\n",
      "  148,000\n",
      "  150,000\n",
      "  152,000\n",
      "  154,000\n",
      "  156,000\n",
      "  158,000\n",
      "  160,000\n",
      "  162,000\n",
      "  164,000\n",
      "  166,000\n",
      "  168,000\n",
      "  170,000\n",
      "  172,000\n",
      "  174,000\n",
      "  176,000\n",
      "  178,000\n",
      "  180,000\n",
      "  182,000\n",
      "  184,000\n",
      "  186,000\n",
      "  188,000\n",
      "  190,000\n",
      "  192,000\n",
      "  194,000\n",
      "  196,000\n",
      "  198,000\n",
      "  200,000\n",
      "  202,000\n",
      "  204,000\n",
      "  206,000\n",
      "  208,000\n",
      "  210,000\n",
      "  212,000\n",
      "  214,000\n",
      "  216,000\n",
      "DONE.\n",
      "\n",
      "Longest sequence:  2823\n",
      "Median: 196\n"
     ]
    },
    {
     "output_type": "display_data",
     "data": {
      "text/plain": [
       "<Figure size 432x288 with 1 Axes>"
      ],
      "image/png": "[encoded data removed]"
     },
     "metadata": {
      "needs_background": "light"
     }
    }
   ]
  },
  {
   "cell_type": "markdown",
   "source": [
    "I'm going to start with a max_len of 600, just to speed up training. We can try a longer length next."
   ],
   "metadata": {
    "id": "7z5uOUXTegTn",
    "pycharm": {
     "name": "#%% md\n"
    }
   }
  },
  {
   "cell_type": "code",
   "source": [
    "# Specify the length to pad / truncate all sequences to.\n",
    "max_len = 400"
   ],
   "metadata": {
    "id": "ltqrGkFKeZw_",
    "pycharm": {
     "name": "#%%\n"
    }
   },
   "execution_count": 26,
   "outputs": []
  },
  {
   "cell_type": "markdown",
   "source": [
    "**Training Split**"
   ],
   "metadata": {
    "id": "oyjHbkCZeQGn",
    "pycharm": {
     "name": "#%% md\n"
    }
   }
  },
  {
   "cell_type": "code",
   "source": [
    "# Re-split the dataset.\n",
    "test_df = data_df.loc[data_df.split == 'test']\n",
    "train_df = data_df.loc[data_df.split == 'train']\n",
    "\n",
    "print('After filtering:')\n",
    "print('  {:,} training samples'.format(len(train_df)))\n",
    "print('  {:,} test samples'.format(len(test_df)))"
   ],
   "metadata": {
    "colab": {
     "base_uri": "https://localhost:8080/"
    },
    "id": "gJTPll63akRv",
    "outputId": "443752bf-188e-4531-982f-51330c0789c0",
    "pycharm": {
     "name": "#%%\n"
    }
   },
   "execution_count": 27,
   "outputs": [
    {
     "output_type": "stream",
     "name": "stdout",
     "text": [
      "After filtering:\n",
      "  173,613 training samples\n",
      "  43,404 test samples\n"
     ]
    }
   ]
  },
  {
   "cell_type": "markdown",
   "source": [
    "Now we can do the real tokenization and encoding.\n"
   ],
   "metadata": {
    "id": "iS5okUvDetLH",
    "pycharm": {
     "name": "#%% md\n"
    }
   }
  },
  {
   "cell_type": "code",
   "source": [
    "import torch\n",
    "\n",
    "# Tokenize all of the sentences and map the tokens to thier word IDs.\n",
    "input_ids = []\n",
    "\n",
    "attention_masks = []\n",
    "\n",
    "print('Encoding {:,} text samples...'.format(len(train_df)))\n",
    "\n",
    "num_done = 0\n",
    "\n",
    "# For each of the samples...\n",
    "for (row_i, row) in train_df.iterrows():\n",
    "\n",
    "    # Update every 2k samples.\n",
    "    if ((num_done % 2000) == 0):\n",
    "        print('  {:>6,}'.format(num_done))\n",
    "\n",
    "    # `encode_plus` will:\n",
    "    #   (1) Tokenize the sentence.\n",
    "    #   (2) Prepend the `[CLS]` token to the start.\n",
    "    #   (3) Append the `[SEP]` token to the end.\n",
    "    #   (4) Map tokens to their IDs.\n",
    "    #   (5) Pad or truncate the sentence to `max_length`\n",
    "    #   (6) Create attention masks for [PAD] tokens.\n",
    "    encoded_dict = tokenizer.encode_plus(\n",
    "                        row['text'],                  # Sentence to encode.\n",
    "                        max_length = max_len,  # Pad & truncate all sentences.\n",
    "                        truncation = True,\n",
    "                        padding = 'max_length',\n",
    "                        return_attention_mask = True,   # Construct attn. masks.\n",
    "                        return_tensors = 'pt',     # Return pytorch tensors.\n",
    "                )\n",
    "    \n",
    "    # Add the encoded sentence to the list.    \n",
    "    input_ids.append(encoded_dict['input_ids'])\n",
    "    \n",
    "    # And its attention mask (simply differentiates padding from non-padding).\n",
    "    attention_masks.append(encoded_dict['attention_mask'])\n",
    "\n",
    "    num_done += 1\n",
    "\n"
   ],
   "metadata": {
    "colab": {
     "base_uri": "https://localhost:8080/"
    },
    "id": "Szl8zK9OeX2j",
    "outputId": "d552618a-02ec-4aa6-f13c-4a087a753bca",
    "pycharm": {
     "name": "#%%\n"
    }
   },
   "execution_count": 28,
   "outputs": [
    {
     "output_type": "stream",
     "name": "stdout",
     "text": [
      "Encoding 173,613 text samples...\n",
      "       0\n",
      "   2,000\n",
      "   4,000\n",
      "   6,000\n",
      "   8,000\n",
      "  10,000\n",
      "  12,000\n",
      "  14,000\n",
      "  16,000\n",
      "  18,000\n",
      "  20,000\n",
      "  22,000\n",
      "  24,000\n",
      "  26,000\n",
      "  28,000\n",
      "  30,000\n",
      "  32,000\n",
      "  34,000\n",
      "  36,000\n",
      "  38,000\n",
      "  40,000\n",
      "  42,000\n",
      "  44,000\n",
      "  46,000\n",
      "  48,000\n",
      "  50,000\n",
      "  52,000\n",
      "  54,000\n",
      "  56,000\n",
      "  58,000\n",
      "  60,000\n",
      "  62,000\n",
      "  64,000\n",
      "  66,000\n",
      "  68,000\n",
      "  70,000\n",
      "  72,000\n",
      "  74,000\n",
      "  76,000\n",
      "  78,000\n",
      "  80,000\n",
      "  82,000\n",
      "  84,000\n",
      "  86,000\n",
      "  88,000\n",
      "  90,000\n",
      "  92,000\n",
      "  94,000\n",
      "  96,000\n",
      "  98,000\n",
      "  100,000\n",
      "  102,000\n",
      "  104,000\n",
      "  106,000\n",
      "  108,000\n",
      "  110,000\n",
      "  112,000\n",
      "  114,000\n",
      "  116,000\n",
      "  118,000\n",
      "  120,000\n",
      "  122,000\n",
      "  124,000\n",
      "  126,000\n",
      "  128,000\n",
      "  130,000\n",
      "  132,000\n",
      "  134,000\n",
      "  136,000\n",
      "  138,000\n",
      "  140,000\n",
      "  142,000\n",
      "  144,000\n",
      "  146,000\n",
      "  148,000\n",
      "  150,000\n",
      "  152,000\n",
      "  154,000\n",
      "  156,000\n",
      "  158,000\n",
      "  160,000\n",
      "  162,000\n",
      "  164,000\n",
      "  166,000\n",
      "  168,000\n",
      "  170,000\n",
      "  172,000\n"
     ]
    }
   ]
  },
  {
   "cell_type": "code",
   "source": [
    "import torch\n",
    "\n",
    "# Convert the lists into tensors.\n",
    "input_ids = torch.cat(input_ids, dim=0)\n",
    "attention_masks = torch.cat(attention_masks, dim=0)\n",
    "\n",
    "print('DONE.')"
   ],
   "metadata": {
    "colab": {
     "base_uri": "https://localhost:8080/"
    },
    "id": "g-uC12tLakU8",
    "outputId": "8dd610ea-95b4-4264-e353-5c3de3bb78e7",
    "pycharm": {
     "name": "#%%\n"
    }
   },
   "execution_count": 29,
   "outputs": [
    {
     "output_type": "stream",
     "name": "stdout",
     "text": [
      "DONE.\n"
     ]
    }
   ]
  },
  {
   "cell_type": "markdown",
   "source": [
    "Create PyTorch tensors for the labels and categorical features."
   ],
   "metadata": {
    "id": "gwd8g5NzfKb1",
    "pycharm": {
     "name": "#%% md\n"
    }
   }
  },
  {
   "cell_type": "code",
   "source": [
    "import torch\n",
    "\n",
    "# Tensor for labels.\n",
    "labels = torch.tensor(train_df['rent'].values)\n",
    "\n",
    "# Tensor for categorical features.\n",
    "categorical_feats = torch.tensor(train_df[col_info['cat_cols']].values, dtype=torch.float32)\n",
    "\n",
    "# Tensor for numerical features.\n",
    "numerical_feats = torch.tensor(train_df[col_info['num_cols']].values.astype('float'), dtype=torch.float32)"
   ],
   "metadata": {
    "id": "678ha9ytakXx",
    "pycharm": {
     "name": "#%%\n"
    }
   },
   "execution_count": 30,
   "outputs": []
  },
  {
   "cell_type": "code",
   "source": [
    "from torch.utils.data import TensorDataset, random_split\n",
    "\n",
    "# Combine the training inputs into a TensorDataset.\n",
    "dataset = TensorDataset(input_ids, categorical_feats, numerical_feats, attention_masks, labels)\n",
    "\n",
    "# Create a 90-10 train-validation split.\n",
    "\n",
    "# Calculate the number of samples to include in each set.\n",
    "train_size = int(0.9 * len(dataset))\n",
    "val_size = len(dataset) - train_size\n",
    "\n",
    "# Divide the dataset by randomly selecting samples.\n",
    "train_dataset, val_dataset = random_split(dataset, [train_size, val_size])\n",
    "\n",
    "print('{:>5,} training samples'.format(train_size))\n",
    "print('{:>5,} validation samples'.format(val_size))"
   ],
   "metadata": {
    "colab": {
     "base_uri": "https://localhost:8080/"
    },
    "id": "cL_ezp3mY5dV",
    "outputId": "07b293a7-9572-4b52-c1ac-b58b60fef220",
    "pycharm": {
     "name": "#%%\n"
    }
   },
   "execution_count": 31,
   "outputs": [
    {
     "output_type": "stream",
     "name": "stdout",
     "text": [
      "156,251 training samples\n",
      "17,362 validation samples\n"
     ]
    }
   ]
  },
  {
   "cell_type": "markdown",
   "source": [
    "In order to implement our model, we need to define our own BERT class based on `BertForSequenceClassification`.\n",
    "\n",
    "I named our custom class `BertConcatFeatures`. \n",
    "\n",
    "One component of our custom model is the multi-layer neural network (a.k.a. Multi-Layer Perceptron or \"MLP\") that we'll use on the output to generate our actual price prediction.  We'll define our `MLP` class first, then use it as a component within `BertConcatFeatures`.\n",
    "\n",
    "> *Why an MLP?* \n",
    "> Normally, with BERT we just use a simple linear classifier on the output. That's because BERT is a massive and powerful model, and is able to encode everything needed for a simple classification into the `[CLS]` embedding.\n",
    "> Here, though, we have some additional features outside of BERT, so we'll want a more sophisticated model on the output that's able to combine the different sources of information intelligently."
   ],
   "metadata": {
    "id": "9QQB1yP0faDX",
    "pycharm": {
     "name": "#%% md\n"
    }
   }
  },
  {
   "cell_type": "markdown",
   "source": [
    "Below is the definition of our MLP model, which we'll use on the output to generate our final prediction. \n"
   ],
   "metadata": {
    "id": "Gx5Hi5OJfoMV",
    "pycharm": {
     "name": "#%% md\n"
    }
   }
  },
  {
   "cell_type": "code",
   "source": [
    "import math\n",
    "import torch\n",
    "import torch.nn as nn\n",
    "from torch.nn import CrossEntropyLoss, MSELoss\n",
    "\n",
    "\n",
    "class MLP(nn.Module):\n",
    "    \"\"\"mlp can specify number of hidden layers and hidden layer channels\"\"\"\n",
    "\n",
    "    def __init__(self, input_dim, output_dim, num_hidden_lyr=2,\n",
    "                 dropout_prob=0.5, return_layer_outs=False,\n",
    "                 hidden_channels=None, bn=False):\n",
    "        super().__init__()\n",
    "        self.out_dim = output_dim\n",
    "        self.dropout = nn.Dropout(dropout_prob)\n",
    "        self.return_layer_outs = return_layer_outs\n",
    "        if not hidden_channels:\n",
    "            hidden_channels = [input_dim for _ in range(num_hidden_lyr)]\n",
    "        elif len(hidden_channels) != num_hidden_lyr:\n",
    "            raise ValueError(\n",
    "                \"number of hidden layers should be the same as the lengh of hidden_channels\")\n",
    "        self.layer_channels = [input_dim] + hidden_channels + [output_dim]\n",
    "        self.act_name = 'relu'\n",
    "        self.activation = nn.ReLU()\n",
    "        self.layers = nn.ModuleList(list(\n",
    "            map(self.weight_init, [nn.Linear(self.layer_channels[i], self.layer_channels[i + 1])\n",
    "                                   for i in range(len(self.layer_channels) - 2)])))\n",
    "        final_layer = nn.Linear(self.layer_channels[-2], self.layer_channels[-1])\n",
    "        self.weight_init(final_layer,   activation='linear')\n",
    "        self.layers.append(final_layer)\n",
    "\n",
    "        self.bn = bn\n",
    "        if self.bn:\n",
    "            self.bn = nn.ModuleList([torch.nn.BatchNorm1d(dim) for dim in self.layer_channels[1:-1]])\n",
    "\n",
    "    def weight_init(self, m, activation=None):\n",
    "        if activation is None:\n",
    "            activation = self.act_name\n",
    "        torch.nn.init.xavier_uniform_(m.weight, gain=nn.init.calculate_gain(activation))\n",
    "        return m\n",
    "\n",
    "    def forward(self, x):\n",
    "        \"\"\"\n",
    "        :param x: the input features\n",
    "        :return: tuple containing output of MLP,\n",
    "                and list of inputs and outputs at every layer\n",
    "        \"\"\"\n",
    "        layer_inputs = [x]\n",
    "        for i, layer in enumerate(self.layers):\n",
    "            input = layer_inputs[-1]\n",
    "            if layer == self.layers[-1]:\n",
    "                layer_inputs.append(layer(input))\n",
    "            else:\n",
    "                if self.bn:\n",
    "                    output = self.activation(self.bn[i](layer(input)))\n",
    "                else:\n",
    "                    output = self.activation(layer(input))\n",
    "                layer_inputs.append(self.dropout(output))\n",
    "\n",
    "        # model.store_layer_output(self, layer_inputs[-1])\n",
    "        if self.return_layer_outs:\n",
    "            return layer_inputs[-1], layer_inputs\n",
    "        else:\n",
    "            return layer_inputs[-1]\n"
   ],
   "metadata": {
    "id": "acAagUPYfljJ",
    "pycharm": {
     "name": "#%%\n"
    }
   },
   "execution_count": 32,
   "outputs": []
  },
  {
   "cell_type": "code",
   "source": [
    "from torch import nn\n",
    "\n",
    "from transformers import BertForSequenceClassification\n",
    "\n",
    "\n",
    "class BertConcatFeatures(BertForSequenceClassification):\n",
    "    \"\"\"\n",
    "    A model for classification or regression which combines text, categorical,\n",
    "    and numerical features. The text features are processed with BERT. All\n",
    "    features are concatenated into a single vector, which is fed into an MLP\n",
    "    for final classification / regression.\n",
    "\n",
    "    This class expects a transformers.BertConfig object, and the config object\n",
    "    needs to have three additional properties manually added to it:\n",
    "      `text_feat_dim` - The length of the BERT vector.\n",
    "      `cat_feat_dim` - The number of categorical features.\n",
    "      `numerical_feat_dim` - The number of numerical features.\n",
    "    \"\"\"\n",
    "\n",
    "    def __init__(self, config):\n",
    "        \n",
    "        # ====================\n",
    "        #     BERT Setup\n",
    "        # ====================\n",
    "\n",
    "        # Call the constructor for the huggingface `BertForSequenceClassification` \n",
    "        # class, which will do all of the BERT-related setup. The resulting BERT\n",
    "        # model is stored in `self.bert`. \n",
    "        super().__init__(config)\n",
    "        \n",
    "        # ==================================\n",
    "        #     Feature Combination Setup\n",
    "        # ==================================\n",
    "\n",
    "        # Store the number of labels, which tells us whether this is a \n",
    "        # classification or regression task.\n",
    "        self.num_labels = config.num_labels\n",
    "\n",
    "        # Calculate the combined vector length. \n",
    "        combined_feat_dim = config.text_feat_dim + \\\n",
    "                            config.cat_feat_dim + \\\n",
    "                            config.numerical_feat_dim\n",
    "\n",
    "        # Create a batch normalizer for the numerical features.\n",
    "        self.num_bn = nn.BatchNorm1d(config.numerical_feat_dim)\n",
    "\n",
    "        # ====================\n",
    "        #     MLP Setup\n",
    "        # ====================\n",
    "\n",
    "        # To setup the MLP, we need to specify the number of layers and the\n",
    "        # number of neurons in each layer. The MultiModal-Toolkit has a formula\n",
    "        # for picking these dimensions. Each layer of the MLP has 1/4th the \n",
    "        # number of neurons as the previous one. \n",
    "        \n",
    "        # Dimensions of each MLP layer.\n",
    "        dims = []\n",
    "\n",
    "        # Starting with the combined feature vector length...\n",
    "        dim = combined_feat_dim\n",
    "\n",
    "        # Keep dividing by 4 until we drop below the number of outputs the MLP\n",
    "        # needs to have. \n",
    "        while True:\n",
    "            \n",
    "            # Divide by 4 and truncate to an integer.\n",
    "            dim = dim // 4\n",
    "            \n",
    "            # If the resulting layer size would be smaller than the number of \n",
    "            # outputs, then we're done.\n",
    "            if dim <= self.num_labels:\n",
    "                break\n",
    "            \n",
    "            # Otherwise, store this as the next layer size.\n",
    "            dims.append(int(dim))\n",
    "\n",
    "        # Print out the resulting MLP.                \n",
    "        print('MLP layer sizes:')\n",
    "        print('  Input:', combined_feat_dim)\n",
    "        print('  Hidden:', dims)\n",
    "        print('  Output:', self.num_labels)\n",
    "        print('')\n",
    "\n",
    "        # Construct the MLP, specifying the number of inputs, outputs, and the\n",
    "        # layer sizes.\n",
    "        self.mlp = MLP(combined_feat_dim,\n",
    "                        self.num_labels,\n",
    "                        num_hidden_lyr=len(dims),\n",
    "                        dropout_prob=0.1,\n",
    "                        hidden_channels=dims,\n",
    "                        bn=True)\n",
    "\n",
    "    def forward(\n",
    "        self,\n",
    "        input_ids=None,\n",
    "        attention_mask=None,\n",
    "        token_type_ids=None,\n",
    "        position_ids=None,\n",
    "        head_mask=None,\n",
    "        inputs_embeds=None,\n",
    "        labels=None,\n",
    "        class_weights=None,\n",
    "        output_attentions=None,\n",
    "        output_hidden_states=None,\n",
    "        cat_feats=None,\n",
    "        numerical_feats=None\n",
    "    ):\n",
    "        r\"\"\"\n",
    "        Perform a forward pass of our model.\n",
    "        \n",
    "        This has the same inputs as `forward` in `BertForSequenceClassification`,\n",
    "        but with two extra parameters:\n",
    "          `cat_feats` - Tensor of categorical features.\n",
    "          `numerical_feats` - Tensor of numerical features.  \n",
    "        \"\"\"\n",
    "        \n",
    "        # ====================\n",
    "        #        BERT\n",
    "        # ====================\n",
    "       \n",
    "        # Run the text through the BERT model. Invoking `self.bert` returns \n",
    "        # outputs from the encoding layers, and not from the final classifier.\n",
    "        outputs = self.bert(\n",
    "            input_ids,\n",
    "            attention_mask=attention_mask,\n",
    "            token_type_ids=token_type_ids,\n",
    "            position_ids=position_ids,\n",
    "            head_mask=head_mask,\n",
    "            inputs_embeds=inputs_embeds,\n",
    "            output_attentions=output_attentions,\n",
    "            output_hidden_states=output_hidden_states,\n",
    "        )\n",
    "        \n",
    "        # outputs[0] - All of the output embeddings from BERT\n",
    "        # outputs[1] - The [CLS] token embedding, with some additional \"pooling\"\n",
    "        #              done.\n",
    "        cls = outputs[1]\n",
    "        \n",
    "        # Apply dropout to the CLS embedding.\n",
    "        cls = self.dropout(cls)\n",
    "\n",
    "        # ==========================\n",
    "        #    Concatenate Features\n",
    "        # ==========================        \n",
    "\n",
    "        # Apply batch normalization to the numerical features.        \n",
    "        numerical_feats = self.num_bn(numerical_feats)\n",
    "    \n",
    "        # Object sizes:\n",
    "        #             cls   [batch size  x   768]\n",
    "        # numerical_feats   [batch size  x   # numerical features]\n",
    "        #       cat_feats   [batch size  x   # categorical features]\n",
    "    \n",
    "        # Simply concatenate everything into one vector.\n",
    "        # For example, if we have 6 categ. and 5 numer. features, then the\n",
    "        # result has 768 + 6 + 5 = 779 features.\n",
    "        combined_feats = torch.cat((cls, cat_feats, numerical_feats),\n",
    "                                    dim=1)\n",
    "        \n",
    "        # ====================================\n",
    "        #    Output Classifier / Regression\n",
    "        # ====================================        \n",
    "\n",
    "        # Run the the samples through the MLP.\n",
    "        logits = self.mlp(combined_feats)\n",
    "\n",
    "        # TODO - Not sure what's going on with the outputs...\n",
    "\n",
    "        if type(logits) is tuple:\n",
    "            logits, classifier_layer_outputs = logits[0], logits[1]\n",
    "\n",
    "        else:  # simple classifier\n",
    "            classifier_layer_outputs = [combined_feats, logits]\n",
    "        \n",
    "        # =================\n",
    "        #       Loss\n",
    "        # =================\n",
    "\n",
    "        # Calculate loss, but only if labels were provided.\n",
    "        # (Labels aren't provided at test time).\n",
    "        if labels is not None:\n",
    "\n",
    "            # Regression\n",
    "            if self.num_labels == 1:\n",
    "                #  We are doing regression\n",
    "                loss_fct = MSELoss()\n",
    "\n",
    "                labels = labels.float()\n",
    "\n",
    "                loss = loss_fct(logits.view(-1), labels.view(-1))\n",
    "            \n",
    "            # Classification\n",
    "            else:\n",
    "                loss_fct = CrossEntropyLoss(weight=class_weights)\n",
    "                \n",
    "                labels = labels.long()\n",
    "                \n",
    "                loss = loss_fct(logits.view(-1, self.num_labels), labels.view(-1))\n",
    "        \n",
    "        # If no labels are provided, set the loss to 'None'.\n",
    "        else:\n",
    "            loss = None\n",
    "        \n",
    "        # Put the results into a Dictionary to return.\n",
    "        results = {'loss': loss, \n",
    "                   'logits': logits,\n",
    "                   'classifier_layer_outputs': classifier_layer_outputs}\n",
    "\n",
    "        return results\n",
    "\n",
    "\n"
   ],
   "metadata": {
    "id": "Q6YY90cXfyuQ",
    "pycharm": {
     "name": "#%%\n"
    }
   },
   "execution_count": 33,
   "outputs": []
  },
  {
   "cell_type": "markdown",
   "source": [
    "In this section, we'll use our custom BERT class and load Google's pre-trained version of BERT.\n",
    "\n",
    "The first step is to connect the GPU to PyTorch."
   ],
   "metadata": {
    "id": "hweMS_1DgQhv",
    "pycharm": {
     "name": "#%% md\n"
    }
   }
  },
  {
   "cell_type": "code",
   "source": [
    "import torch\n",
    "\n",
    "# If there's a GPU available...\n",
    "if torch.cuda.is_available():    \n",
    "\n",
    "    # Print out what GPU we've got.\n",
    "    print('There are %d GPU(s) available:\\n' % torch.cuda.device_count())\n",
    "    print('    ', torch.cuda.get_device_name(0))\n",
    "\n",
    "    # Tell PyTorch to use the GPU.    \n",
    "    device = torch.device(\"cuda\") \n",
    "\n",
    "# If not, you could use the CPU, but this isn't recommended!\n",
    "else:\n",
    "    print('No GPU available, using the CPU instead.')\n",
    "    device = torch.device(\"cpu\")"
   ],
   "metadata": {
    "colab": {
     "base_uri": "https://localhost:8080/"
    },
    "id": "kT4RKlRygP0z",
    "outputId": "5ef5ca30-be29-4a8b-ef08-543b67003c7b",
    "pycharm": {
     "name": "#%%\n"
    }
   },
   "execution_count": 34,
   "outputs": [
    {
     "output_type": "stream",
     "name": "stdout",
     "text": [
      "There are 1 GPU(s) available:\n",
      "\n",
      "     Tesla T4\n"
     ]
    }
   ]
  },
  {
   "cell_type": "markdown",
   "source": [
    "Next we'll initialize our custom class. This involves loading the pre-trained weights of the BERT model as well as defining our output MLP and initializing its weights. \n",
    "\n",
    "In order to set up the MLP, we'll need to know the total feature dimensions, so we'll specify these using an instance of the BertConfig class.\n",
    "\n",
    "In the output of this cell, note that it prints the size of each of the hidden layers in the MLP."
   ],
   "metadata": {
    "id": "MKdaBfT6gZf6",
    "pycharm": {
     "name": "#%% md\n"
    }
   }
  },
  {
   "cell_type": "code",
   "source": [
    "from transformers import BertConfig\n",
    "\n",
    "# We'll need to a use a \"BertConfig\" object from the transformers library to\n",
    "# specify our parameters. \n",
    "# model = AutoModelForMaskedLM.from_pretrained(\"bert-base-german-cased\")\n",
    "\n",
    "# First, specify the ordinary BERT parameters by taking them from the \n",
    "# 'bert-base-uncased' model. \n",
    "# Also set the number of labels.\n",
    "config = BertConfig.from_pretrained(\n",
    "        'bert-base-german-cased',\n",
    "        num_labels=1, # The number of output labels--1 for regression.\n",
    "    )\n",
    "\n",
    "# To set up the MLP, we need to know the combined vector length that will be\n",
    "# sent into it. \n",
    "\n",
    "# Pass in the number of numerical and categorical features.\n",
    "config.numerical_feat_dim = numerical_feats.size()[1]\n",
    "config.cat_feat_dim = categorical_feats.size()[1]\n",
    "\n",
    "# Pass in the size of the text embedding.\n",
    "# The text feature dimension is the \"hidden_size\" parameter which \n",
    "# comes from BertConfig. The length is 768 in BERT-base (and most other BERT\n",
    "# models).\n",
    "config.text_feat_dim = config.hidden_size # 768\n",
    "\n",
    "# Now we're ready to do the actual set up of our model! Note that we're passing\n",
    "# in the config object here.\n",
    "model = BertConcatFeatures.from_pretrained(\n",
    "    \"bert-base-german-cased\",\n",
    "    config = config\n",
    ")\n",
    "\n",
    "# Tell pytorch to run this model on the GPU.\n",
    "desc = model.cuda()"
   ],
   "metadata": {
    "colab": {
     "base_uri": "https://localhost:8080/"
    },
    "id": "ME5Qc2nZfQra",
    "outputId": "7329bf3e-fc1d-41bd-ab95-6d01620208d6",
    "pycharm": {
     "name": "#%%\n"
    }
   },
   "execution_count": 35,
   "outputs": [
    {
     "output_type": "stream",
     "name": "stdout",
     "text": [
      "MLP layer sizes:\n",
      "  Input: 779\n",
      "  Hidden: [194, 48, 12, 3]\n",
      "  Output: 1\n",
      "\n"
     ]
    },
    {
     "output_type": "stream",
     "name": "stderr",
     "text": [
      "Some weights of the model checkpoint at bert-base-german-cased were not used when initializing BertConcatFeatures: ['cls.predictions.transform.LayerNorm.weight', 'cls.predictions.transform.LayerNorm.bias', 'cls.seq_relationship.weight', 'cls.predictions.decoder.weight', 'cls.seq_relationship.bias', 'cls.predictions.transform.dense.weight', 'cls.predictions.bias', 'cls.predictions.transform.dense.bias']\n",
      "- This IS expected if you are initializing BertConcatFeatures from the checkpoint of a model trained on another task or with another architecture (e.g. initializing a BertForSequenceClassification model from a BertForPreTraining model).\n",
      "- This IS NOT expected if you are initializing BertConcatFeatures from the checkpoint of a model that you expect to be exactly identical (initializing a BertForSequenceClassification model from a BertForSequenceClassification model).\n",
      "Some weights of BertConcatFeatures were not initialized from the model checkpoint at bert-base-german-cased and are newly initialized: ['mlp.layers.1.bias', 'mlp.layers.2.weight', 'mlp.bn.0.running_var', 'classifier.bias', 'mlp.layers.4.bias', 'mlp.bn.0.running_mean', 'mlp.bn.1.running_mean', 'mlp.layers.3.bias', 'mlp.bn.3.running_mean', 'mlp.bn.1.running_var', 'mlp.bn.2.weight', 'mlp.bn.3.running_var', 'mlp.bn.2.running_var', 'mlp.bn.3.num_batches_tracked', 'num_bn.bias', 'mlp.layers.1.weight', 'mlp.layers.3.weight', 'mlp.bn.0.num_batches_tracked', 'mlp.bn.1.num_batches_tracked', 'mlp.bn.0.bias', 'mlp.bn.2.bias', 'mlp.bn.3.weight', 'mlp.layers.2.bias', 'mlp.bn.1.weight', 'mlp.bn.1.bias', 'num_bn.running_var', 'mlp.bn.2.running_mean', 'mlp.bn.3.bias', 'mlp.bn.2.num_batches_tracked', 'num_bn.weight', 'classifier.weight', 'mlp.layers.0.bias', 'num_bn.num_batches_tracked', 'num_bn.running_mean', 'mlp.layers.0.weight', 'mlp.layers.4.weight', 'mlp.bn.0.weight']\n",
      "You should probably TRAIN this model on a down-stream task to be able to use it for predictions and inference.\n"
     ]
    }
   ]
  },
  {
   "cell_type": "code",
   "source": [
    "# Larger batch sizes tend to be better, and we can fit this in memory.\n",
    "batch_size = 16\n",
    "\n",
    "# This is the learning rate specified in Ken's configuration\n",
    "learning_rate = 3e-3\n",
    "\n",
    "# Number of training epochs. \n",
    "epochs = 2\n",
    "\n",
    "# Print out the max_len for reference. To change this, you'd need to set it\n",
    "# back in section 3 prior to the tokenization and encoding of the text.\n",
    "print('Using maximum sequence length:', max_len)"
   ],
   "metadata": {
    "colab": {
     "base_uri": "https://localhost:8080/"
    },
    "id": "Jj-Hq-V7fQuc",
    "outputId": "ed8d2052-ddec-4d46-875f-5c720c131f00",
    "pycharm": {
     "name": "#%%\n"
    }
   },
   "execution_count": 36,
   "outputs": [
    {
     "output_type": "stream",
     "name": "stdout",
     "text": [
      "Using maximum sequence length: 400\n"
     ]
    }
   ]
  },
  {
   "cell_type": "code",
   "source": [
    "from torch.utils.data import DataLoader, RandomSampler, SequentialSampler\n",
    "\n",
    "# Create the DataLoaders for our training and validation sets.\n",
    "# We'll take training samples in random order. \n",
    "train_dataloader = DataLoader(\n",
    "            train_dataset,  # The training samples.\n",
    "            sampler = RandomSampler(train_dataset), # Select batches randomly\n",
    "            batch_size = batch_size # Trains with this batch size.\n",
    "        )\n",
    "\n",
    "# For validation the order doesn't matter, so we'll just read them sequentially.\n",
    "validation_dataloader = DataLoader(\n",
    "            val_dataset, # The validation samples.\n",
    "            sampler = SequentialSampler(val_dataset), # Pull out batches sequentially.\n",
    "            batch_size = batch_size # Evaluate with this batch size.\n",
    "        )"
   ],
   "metadata": {
    "id": "CNKazbZqfQxA",
    "pycharm": {
     "name": "#%%\n"
    }
   },
   "execution_count": 37,
   "outputs": []
  },
  {
   "cell_type": "code",
   "source": [
    "from transformers import AdamW\n",
    "\n",
    "# Note: AdamW is a class from the huggingface library (as opposed to pytorch) \n",
    "optimizer = AdamW(model.parameters(),\n",
    "                  lr = learning_rate, \n",
    "                  eps = 1e-8 \n",
    "                )\n"
   ],
   "metadata": {
    "colab": {
     "base_uri": "https://localhost:8080/"
    },
    "id": "yPRpJ9f9Y5fW",
    "outputId": "2c8bebc8-ceba-4bbd-f447-941ac2ca5c2a",
    "pycharm": {
     "name": "#%%\n"
    }
   },
   "execution_count": 38,
   "outputs": [
    {
     "output_type": "stream",
     "name": "stderr",
     "text": [
      "/usr/local/lib/python3.7/dist-packages/transformers/optimization.py:309: FutureWarning: This implementation of AdamW is deprecated and will be removed in a future version. Use the PyTorch implementation torch.optim.AdamW instead, or set `no_deprecation_warning=True` to disable this warning\n",
      "  FutureWarning,\n"
     ]
    }
   ]
  },
  {
   "cell_type": "code",
   "source": [
    "from transformers import get_linear_schedule_with_warmup\n",
    "\n",
    "# Total number of training steps is [number of batches] x [number of epochs]. \n",
    "# (Note that this is not the same as the number of training samples!)\n",
    "total_steps = len(train_dataloader) * epochs\n",
    "\n",
    "# Create the learning rate scheduler.\n",
    "scheduler = get_linear_schedule_with_warmup(optimizer, \n",
    "                                            num_warmup_steps = 0, # Default value in run_glue.py\n",
    "                                            num_training_steps = total_steps)"
   ],
   "metadata": {
    "id": "mQ7EZi0DhwRN",
    "pycharm": {
     "name": "#%%\n"
    }
   },
   "execution_count": 39,
   "outputs": []
  },
  {
   "cell_type": "code",
   "source": [
    "import time\n",
    "import datetime\n",
    "\n",
    "def format_time(elapsed):\n",
    "    '''\n",
    "    Takes a time in seconds and returns a string hh:mm:ss\n",
    "    '''\n",
    "    # Round to the nearest second.\n",
    "    elapsed_rounded = int(round((elapsed)))\n",
    "    \n",
    "    # Format as hh:mm:ss\n",
    "    return str(datetime.timedelta(seconds=elapsed_rounded))\n"
   ],
   "metadata": {
    "id": "ht3tonfIhwT2",
    "pycharm": {
     "name": "#%%\n"
    }
   },
   "execution_count": 40,
   "outputs": []
  },
  {
   "cell_type": "code",
   "source": [
    "import random\n",
    "import numpy as np\n",
    "\n",
    "# This training code is based on the `run_glue.py` script here:\n",
    "# https://github.com/huggingface/transformers/blob/5bfcd0485ece086ebcbed2d008813037968a9e58/examples/run_glue.py#L128\n",
    "\n",
    "# Set the seed value all over the place to make this reproducible.\n",
    "seed_val = 42\n",
    "\n",
    "random.seed(seed_val)\n",
    "np.random.seed(seed_val)\n",
    "torch.manual_seed(seed_val)\n",
    "torch.cuda.manual_seed_all(seed_val)\n",
    "\n",
    "# We'll store a number of quantities such as training and validation loss, \n",
    "# validation accuracy, and timings.\n",
    "training_stats = []\n",
    "\n",
    "# Measure the total training time for the whole run.\n",
    "total_t0 = time.time()\n",
    "\n",
    "# For each epoch...\n",
    "for epoch_i in range(0, epochs):\n",
    "    \n",
    "    # ========================================\n",
    "    #               Training\n",
    "    # ========================================\n",
    "    \n",
    "    # Perform one full pass over the training set.\n",
    "\n",
    "    print(\"\")\n",
    "    print('======== Epoch {:} / {:} ========'.format(epoch_i + 1, epochs))\n",
    "    print('Training...')\n",
    "\n",
    "    # Measure how long the training epoch takes.\n",
    "    t0 = time.time()\n",
    "\n",
    "    # Reset the total loss for this epoch.\n",
    "    total_train_loss = 0\n",
    "\n",
    "    # Put the model into training mode.\n",
    "    model.train()\n",
    "\n",
    "    # For each batch of training data...\n",
    "    for step, batch in enumerate(train_dataloader):\n",
    "\n",
    "        # Progress update every 100 batches.\n",
    "        if step % 100 == 0 and not step == 0:\n",
    "            # Calculate elapsed time in minutes.\n",
    "            elapsed = format_time(time.time() - t0)\n",
    "            \n",
    "            # Report progress.\n",
    "            print('  Batch {:>5,}  of  {:>5,}.    Elapsed: {:}.'.format(step, len(train_dataloader), elapsed))\n",
    "\n",
    "        # Unpack this training batch from our dataloader. \n",
    "        #\n",
    "        # As we unpack the batch, we'll also copy each tensor to the GPU using the \n",
    "        # `to` method.\n",
    "        b_input_ids = batch[0].to(device)\n",
    "        b_categ_feats = batch[1].to(device)\n",
    "        b_numer_feats = batch[2].to(device) \n",
    "        b_input_mask = batch[3].to(device)\n",
    "        b_labels = batch[4].to(device)\n",
    "\n",
    "        # Clear prior gradients. \n",
    "        model.zero_grad()        \n",
    "\n",
    "        # Perform a forward pass (evaluate the model on this training batch).\n",
    "        # In PyTorch, calling `model` will in turn call the model's `forward` \n",
    "        # function and pass down the arguments. \n",
    "        # This will return the loss (because we provided labels) and the\n",
    "        # \"logits\"--the model outputs prior to activation.\n",
    "        result = model(b_input_ids, \n",
    "                       token_type_ids=None, \n",
    "                       attention_mask=b_input_mask, \n",
    "                       labels=b_labels,\n",
    "                       cat_feats = b_categ_feats,\n",
    "                       numerical_feats = b_numer_feats)\n",
    "\n",
    "        loss = result['loss']\n",
    "        logits = result['logits']\n",
    "\n",
    "        # Accumulate the training loss over all of the batches so that we can\n",
    "        # calculate the average loss at the end. `loss` is a Tensor containing a\n",
    "        # single value; the `.item()` function just returns the Python value \n",
    "        # from the tensor.\n",
    "        total_train_loss += loss.item()\n",
    "\n",
    "        # Perform a backward pass to calculate the gradients.\n",
    "        loss.backward()\n",
    "\n",
    "        # Clip the norm of the gradients to 1.0.\n",
    "        # This is to help prevent the \"exploding gradients\" problem.\n",
    "        torch.nn.utils.clip_grad_norm_(model.parameters(), 1.0)\n",
    "\n",
    "        # Update parameters and take a step using the computed gradient.\n",
    "        # The optimizer dictates the \"update rule\"--how the parameters are\n",
    "        # modified based on their gradients, the learning rate, etc.\n",
    "        optimizer.step()\n",
    "\n",
    "        # Update the learning rate.\n",
    "        scheduler.step()\n",
    "\n",
    "    # Calculate the average loss over all of the batches.\n",
    "    # Include the batch size so that we are looking at the average per-sample\n",
    "    # loss.\n",
    "    avg_train_loss = total_train_loss / (len(train_dataloader) * batch_size)            \n",
    "    \n",
    "    # Measure how long this epoch took.\n",
    "    training_time = format_time(time.time() - t0)\n",
    "\n",
    "    print(\"\")\n",
    "    print(\"  Average training loss: {0:.2f}\".format(avg_train_loss))\n",
    "    print(\"  Training epcoh took: {:}\".format(training_time))\n",
    "        \n",
    "    # ========================================\n",
    "    #               Validation\n",
    "    # ========================================\n",
    "    # After the completion of each training epoch, measure our performance on\n",
    "    # our validation set.\n",
    "\n",
    "    print(\"\")\n",
    "    print(\"Running Validation...\")\n",
    "\n",
    "    t0 = time.time()\n",
    "\n",
    "    # Put the model in evaluation mode--the dropout layers behave differently\n",
    "    # during evaluation.\n",
    "    model.eval()\n",
    "\n",
    "    # Tracking variables \n",
    "    total_eval_loss = 0\n",
    "    nb_eval_steps = 0\n",
    "\n",
    "    # Evaluate data for one epoch\n",
    "    for batch in validation_dataloader:\n",
    "        \n",
    "        # Unpack this training batch from our dataloader. \n",
    "        #\n",
    "        # As we unpack the batch, we'll also copy each tensor to the GPU using \n",
    "        # the `to` method.\n",
    "        #\n",
    "        # `batch` contains three pytorch tensors:\n",
    "        #   [0]: input ids \n",
    "        #   [1]: attention masks\n",
    "        #   [2]: labels \n",
    "        b_input_ids = batch[0].to(device)\n",
    "        b_categ_feats = batch[1].to(device) # TODO - Comment...\n",
    "        b_numer_feats = batch[2].to(device) \n",
    "        b_input_mask = batch[3].to(device)\n",
    "        b_labels = batch[4].to(device)\n",
    "\n",
    "        # Tell pytorch not to bother with constructing the compute graph during\n",
    "        # the forward pass, since this is only needed for backprop (training).\n",
    "        with torch.no_grad():        \n",
    "\n",
    "            # Forward pass, calculate logit predictions.\n",
    "            # token_type_ids is the same as the \"segment ids\", which \n",
    "            # differentiates sentence 1 and 2 in 2-sentence tasks.\n",
    "            result = model(b_input_ids, \n",
    "                           token_type_ids=None, \n",
    "                           attention_mask=b_input_mask,\n",
    "                           labels=b_labels,\n",
    "                           cat_feats = b_categ_feats,\n",
    "                           numerical_feats = b_numer_feats)\n",
    "\n",
    "        # Get the loss and \"logits\" output by the model. The \"logits\" are the \n",
    "        # output values prior to applying an activation function like the \n",
    "        # softmax.\n",
    "        loss = result['loss']\n",
    "        logits = result['logits']\n",
    "            \n",
    "        # Accumulate the validation loss.\n",
    "        total_eval_loss += loss.item()\n",
    "\n",
    "        # Move logits and labels to CPU\n",
    "        logits = logits.detach().cpu().numpy()\n",
    "        prices = b_labels.to('cpu').numpy()        \n",
    "\n",
    "    # Calculate the average loss over all of the batches.\n",
    "    avg_val_loss = total_eval_loss / (len(validation_dataloader) * batch_size)\n",
    "    \n",
    "    # Measure how long the validation run took.\n",
    "    validation_time = format_time(time.time() - t0)\n",
    "    \n",
    "    print(\"  Validation Loss: {0:.2f}\".format(avg_val_loss))\n",
    "    print(\"  Validation took: {:}\".format(validation_time))\n",
    "\n",
    "    # Record all statistics from this epoch.\n",
    "    training_stats.append(\n",
    "        {\n",
    "            'epoch': epoch_i + 1,\n",
    "            'Training Loss': avg_train_loss,\n",
    "            'Valid. Loss': avg_val_loss,\n",
    "            'Training Time': training_time,\n",
    "            'Validation Time': validation_time\n",
    "        }\n",
    "    )\n",
    "\n",
    "print(\"\")\n",
    "print(\"Training complete!\")\n",
    "\n",
    "print(\"Total training took {:} (h:mm:ss)\".format(format_time(time.time()-total_t0)))"
   ],
   "metadata": {
    "colab": {
     "base_uri": "https://localhost:8080/"
    },
    "id": "8XK876nuhwWC",
    "outputId": "9916fe0c-c004-4a7c-ba68-b85201fec97a",
    "pycharm": {
     "name": "#%%\n"
    }
   },
   "execution_count": 41,
   "outputs": [
    {
     "output_type": "stream",
     "name": "stdout",
     "text": [
      "\n",
      "======== Epoch 1 / 2 ========\n",
      "Training...\n",
      "  Batch   100  of  9,766.    Elapsed: 0:01:49.\n",
      "  Batch   200  of  9,766.    Elapsed: 0:03:48.\n",
      "  Batch   300  of  9,766.    Elapsed: 0:05:47.\n",
      "  Batch   400  of  9,766.    Elapsed: 0:07:45.\n",
      "  Batch   500  of  9,766.    Elapsed: 0:09:44.\n",
      "  Batch   600  of  9,766.    Elapsed: 0:11:42.\n",
      "  Batch   700  of  9,766.    Elapsed: 0:13:41.\n",
      "  Batch   800  of  9,766.    Elapsed: 0:15:39.\n",
      "  Batch   900  of  9,766.    Elapsed: 0:17:37.\n",
      "  Batch 1,000  of  9,766.    Elapsed: 0:19:36.\n",
      "  Batch 1,100  of  9,766.    Elapsed: 0:21:34.\n",
      "  Batch 1,200  of  9,766.    Elapsed: 0:23:32.\n",
      "  Batch 1,300  of  9,766.    Elapsed: 0:25:30.\n",
      "  Batch 1,400  of  9,766.    Elapsed: 0:27:29.\n",
      "  Batch 1,500  of  9,766.    Elapsed: 0:29:27.\n",
      "  Batch 1,600  of  9,766.    Elapsed: 0:31:26.\n",
      "  Batch 1,700  of  9,766.    Elapsed: 0:33:24.\n",
      "  Batch 1,800  of  9,766.    Elapsed: 0:35:23.\n",
      "  Batch 1,900  of  9,766.    Elapsed: 0:37:21.\n",
      "  Batch 2,000  of  9,766.    Elapsed: 0:39:20.\n",
      "  Batch 2,100  of  9,766.    Elapsed: 0:41:18.\n",
      "  Batch 2,200  of  9,766.    Elapsed: 0:43:16.\n",
      "  Batch 2,300  of  9,766.    Elapsed: 0:45:15.\n",
      "  Batch 2,400  of  9,766.    Elapsed: 0:47:13.\n",
      "  Batch 2,500  of  9,766.    Elapsed: 0:49:12.\n",
      "  Batch 2,600  of  9,766.    Elapsed: 0:51:10.\n",
      "  Batch 2,700  of  9,766.    Elapsed: 0:53:08.\n",
      "  Batch 2,800  of  9,766.    Elapsed: 0:55:07.\n",
      "  Batch 2,900  of  9,766.    Elapsed: 0:57:06.\n",
      "  Batch 3,000  of  9,766.    Elapsed: 0:59:04.\n",
      "  Batch 3,100  of  9,766.    Elapsed: 1:01:02.\n",
      "  Batch 3,200  of  9,766.    Elapsed: 1:03:01.\n",
      "  Batch 3,300  of  9,766.    Elapsed: 1:04:59.\n",
      "  Batch 3,400  of  9,766.    Elapsed: 1:06:57.\n",
      "  Batch 3,500  of  9,766.    Elapsed: 1:08:56.\n",
      "  Batch 3,600  of  9,766.    Elapsed: 1:10:54.\n",
      "  Batch 3,700  of  9,766.    Elapsed: 1:12:52.\n",
      "  Batch 3,800  of  9,766.    Elapsed: 1:14:51.\n",
      "  Batch 3,900  of  9,766.    Elapsed: 1:16:49.\n",
      "  Batch 4,000  of  9,766.    Elapsed: 1:18:47.\n",
      "  Batch 4,100  of  9,766.    Elapsed: 1:20:46.\n",
      "  Batch 4,200  of  9,766.    Elapsed: 1:22:44.\n",
      "  Batch 4,300  of  9,766.    Elapsed: 1:24:42.\n",
      "  Batch 4,400  of  9,766.    Elapsed: 1:26:40.\n",
      "  Batch 4,500  of  9,766.    Elapsed: 1:28:39.\n",
      "  Batch 4,600  of  9,766.    Elapsed: 1:30:37.\n",
      "  Batch 4,700  of  9,766.    Elapsed: 1:32:35.\n",
      "  Batch 4,800  of  9,766.    Elapsed: 1:34:33.\n",
      "  Batch 4,900  of  9,766.    Elapsed: 1:36:31.\n",
      "  Batch 5,000  of  9,766.    Elapsed: 1:38:29.\n",
      "  Batch 5,100  of  9,766.    Elapsed: 1:40:27.\n",
      "  Batch 5,200  of  9,766.    Elapsed: 1:42:25.\n",
      "  Batch 5,300  of  9,766.    Elapsed: 1:44:24.\n",
      "  Batch 5,400  of  9,766.    Elapsed: 1:46:22.\n",
      "  Batch 5,500  of  9,766.    Elapsed: 1:48:20.\n",
      "  Batch 5,600  of  9,766.    Elapsed: 1:50:19.\n",
      "  Batch 5,700  of  9,766.    Elapsed: 1:52:17.\n",
      "  Batch 5,800  of  9,766.    Elapsed: 1:54:15.\n",
      "  Batch 5,900  of  9,766.    Elapsed: 1:56:14.\n",
      "  Batch 6,000  of  9,766.    Elapsed: 1:58:12.\n",
      "  Batch 6,100  of  9,766.    Elapsed: 2:00:10.\n",
      "  Batch 6,200  of  9,766.    Elapsed: 2:02:09.\n",
      "  Batch 6,300  of  9,766.    Elapsed: 2:04:08.\n",
      "  Batch 6,400  of  9,766.    Elapsed: 2:06:06.\n",
      "  Batch 6,500  of  9,766.    Elapsed: 2:08:04.\n",
      "  Batch 6,600  of  9,766.    Elapsed: 2:10:02.\n",
      "  Batch 6,700  of  9,766.    Elapsed: 2:12:00.\n",
      "  Batch 6,800  of  9,766.    Elapsed: 2:13:58.\n",
      "  Batch 6,900  of  9,766.    Elapsed: 2:15:56.\n",
      "  Batch 7,000  of  9,766.    Elapsed: 2:17:55.\n",
      "  Batch 7,100  of  9,766.    Elapsed: 2:19:53.\n",
      "  Batch 7,200  of  9,766.    Elapsed: 2:21:51.\n",
      "  Batch 7,300  of  9,766.    Elapsed: 2:23:49.\n",
      "  Batch 7,400  of  9,766.    Elapsed: 2:25:47.\n",
      "  Batch 7,500  of  9,766.    Elapsed: 2:27:45.\n",
      "  Batch 7,600  of  9,766.    Elapsed: 2:29:44.\n",
      "  Batch 7,700  of  9,766.    Elapsed: 2:31:42.\n",
      "  Batch 7,800  of  9,766.    Elapsed: 2:33:40.\n",
      "  Batch 7,900  of  9,766.    Elapsed: 2:35:39.\n",
      "  Batch 8,000  of  9,766.    Elapsed: 2:37:37.\n",
      "  Batch 8,100  of  9,766.    Elapsed: 2:39:35.\n",
      "  Batch 8,200  of  9,766.    Elapsed: 2:41:34.\n",
      "  Batch 8,300  of  9,766.    Elapsed: 2:43:32.\n",
      "  Batch 8,400  of  9,766.    Elapsed: 2:45:30.\n",
      "  Batch 8,500  of  9,766.    Elapsed: 2:47:29.\n",
      "  Batch 8,600  of  9,766.    Elapsed: 2:49:26.\n",
      "  Batch 8,700  of  9,766.    Elapsed: 2:51:25.\n",
      "  Batch 8,800  of  9,766.    Elapsed: 2:53:23.\n",
      "  Batch 8,900  of  9,766.    Elapsed: 2:55:21.\n",
      "  Batch 9,000  of  9,766.    Elapsed: 2:57:20.\n",
      "  Batch 9,100  of  9,766.    Elapsed: 2:59:18.\n",
      "  Batch 9,200  of  9,766.    Elapsed: 3:01:16.\n",
      "  Batch 9,300  of  9,766.    Elapsed: 3:03:14.\n",
      "  Batch 9,400  of  9,766.    Elapsed: 3:05:12.\n",
      "  Batch 9,500  of  9,766.    Elapsed: 3:07:10.\n",
      "  Batch 9,600  of  9,766.    Elapsed: 3:09:08.\n",
      "  Batch 9,700  of  9,766.    Elapsed: 3:11:07.\n",
      "\n",
      "  Average training loss: 19462.26\n",
      "  Training epcoh took: 3:12:24\n",
      "\n",
      "Running Validation...\n",
      "  Validation Loss: 4492.15\n",
      "  Validation took: 0:07:23\n",
      "\n",
      "======== Epoch 2 / 2 ========\n",
      "Training...\n",
      "  Batch   100  of  9,766.    Elapsed: 0:01:58.\n",
      "  Batch   200  of  9,766.    Elapsed: 0:03:56.\n",
      "  Batch   300  of  9,766.    Elapsed: 0:05:54.\n",
      "  Batch   400  of  9,766.    Elapsed: 0:07:52.\n",
      "  Batch   500  of  9,766.    Elapsed: 0:09:50.\n",
      "  Batch   600  of  9,766.    Elapsed: 0:11:47.\n",
      "  Batch   700  of  9,766.    Elapsed: 0:13:45.\n",
      "  Batch   800  of  9,766.    Elapsed: 0:15:43.\n",
      "  Batch   900  of  9,766.    Elapsed: 0:17:41.\n",
      "  Batch 1,000  of  9,766.    Elapsed: 0:19:38.\n",
      "  Batch 1,100  of  9,766.    Elapsed: 0:21:36.\n",
      "  Batch 1,200  of  9,766.    Elapsed: 0:23:34.\n",
      "  Batch 1,300  of  9,766.    Elapsed: 0:25:32.\n",
      "  Batch 1,400  of  9,766.    Elapsed: 0:27:30.\n",
      "  Batch 1,500  of  9,766.    Elapsed: 0:29:28.\n",
      "  Batch 1,600  of  9,766.    Elapsed: 0:31:25.\n",
      "  Batch 1,700  of  9,766.    Elapsed: 0:33:23.\n",
      "  Batch 1,800  of  9,766.    Elapsed: 0:35:21.\n",
      "  Batch 1,900  of  9,766.    Elapsed: 0:37:18.\n",
      "  Batch 2,000  of  9,766.    Elapsed: 0:39:16.\n",
      "  Batch 2,100  of  9,766.    Elapsed: 0:41:14.\n",
      "  Batch 2,200  of  9,766.    Elapsed: 0:43:12.\n",
      "  Batch 2,300  of  9,766.    Elapsed: 0:45:10.\n",
      "  Batch 2,400  of  9,766.    Elapsed: 0:47:07.\n",
      "  Batch 2,500  of  9,766.    Elapsed: 0:49:05.\n",
      "  Batch 2,600  of  9,766.    Elapsed: 0:51:03.\n",
      "  Batch 2,700  of  9,766.    Elapsed: 0:53:01.\n",
      "  Batch 2,800  of  9,766.    Elapsed: 0:54:58.\n",
      "  Batch 2,900  of  9,766.    Elapsed: 0:56:56.\n",
      "  Batch 3,000  of  9,766.    Elapsed: 0:58:54.\n",
      "  Batch 3,100  of  9,766.    Elapsed: 1:00:52.\n",
      "  Batch 3,200  of  9,766.    Elapsed: 1:02:50.\n",
      "  Batch 3,300  of  9,766.    Elapsed: 1:04:48.\n",
      "  Batch 3,400  of  9,766.    Elapsed: 1:06:45.\n",
      "  Batch 3,500  of  9,766.    Elapsed: 1:08:44.\n",
      "  Batch 3,600  of  9,766.    Elapsed: 1:10:42.\n",
      "  Batch 3,700  of  9,766.    Elapsed: 1:12:39.\n",
      "  Batch 3,800  of  9,766.    Elapsed: 1:14:37.\n",
      "  Batch 3,900  of  9,766.    Elapsed: 1:16:35.\n",
      "  Batch 4,000  of  9,766.    Elapsed: 1:18:33.\n",
      "  Batch 4,100  of  9,766.    Elapsed: 1:20:31.\n",
      "  Batch 4,200  of  9,766.    Elapsed: 1:22:29.\n",
      "  Batch 4,300  of  9,766.    Elapsed: 1:24:26.\n",
      "  Batch 4,400  of  9,766.    Elapsed: 1:26:24.\n",
      "  Batch 4,500  of  9,766.    Elapsed: 1:28:22.\n",
      "  Batch 4,600  of  9,766.    Elapsed: 1:30:20.\n",
      "  Batch 4,700  of  9,766.    Elapsed: 1:32:18.\n",
      "  Batch 4,800  of  9,766.    Elapsed: 1:34:16.\n",
      "  Batch 4,900  of  9,766.    Elapsed: 1:36:14.\n",
      "  Batch 5,000  of  9,766.    Elapsed: 1:38:12.\n",
      "  Batch 5,100  of  9,766.    Elapsed: 1:40:10.\n",
      "  Batch 5,200  of  9,766.    Elapsed: 1:42:08.\n",
      "  Batch 5,300  of  9,766.    Elapsed: 1:44:06.\n",
      "  Batch 5,400  of  9,766.    Elapsed: 1:46:04.\n",
      "  Batch 5,500  of  9,766.    Elapsed: 1:48:02.\n",
      "  Batch 5,600  of  9,766.    Elapsed: 1:50:00.\n",
      "  Batch 5,700  of  9,766.    Elapsed: 1:51:58.\n",
      "  Batch 5,800  of  9,766.    Elapsed: 1:53:56.\n",
      "  Batch 5,900  of  9,766.    Elapsed: 1:55:54.\n",
      "  Batch 6,000  of  9,766.    Elapsed: 1:57:52.\n",
      "  Batch 6,100  of  9,766.    Elapsed: 1:59:49.\n",
      "  Batch 6,200  of  9,766.    Elapsed: 2:01:47.\n",
      "  Batch 6,300  of  9,766.    Elapsed: 2:03:45.\n",
      "  Batch 6,400  of  9,766.    Elapsed: 2:05:43.\n",
      "  Batch 6,500  of  9,766.    Elapsed: 2:07:41.\n",
      "  Batch 6,600  of  9,766.    Elapsed: 2:09:39.\n",
      "  Batch 6,700  of  9,766.    Elapsed: 2:11:37.\n",
      "  Batch 6,800  of  9,766.    Elapsed: 2:13:35.\n",
      "  Batch 6,900  of  9,766.    Elapsed: 2:15:33.\n",
      "  Batch 7,000  of  9,766.    Elapsed: 2:17:31.\n",
      "  Batch 7,100  of  9,766.    Elapsed: 2:19:29.\n",
      "  Batch 7,200  of  9,766.    Elapsed: 2:21:27.\n",
      "  Batch 7,300  of  9,766.    Elapsed: 2:23:25.\n",
      "  Batch 7,400  of  9,766.    Elapsed: 2:25:23.\n",
      "  Batch 7,500  of  9,766.    Elapsed: 2:27:21.\n",
      "  Batch 7,600  of  9,766.    Elapsed: 2:29:18.\n",
      "  Batch 7,700  of  9,766.    Elapsed: 2:31:16.\n",
      "  Batch 7,800  of  9,766.    Elapsed: 2:33:14.\n",
      "  Batch 7,900  of  9,766.    Elapsed: 2:35:12.\n",
      "  Batch 8,000  of  9,766.    Elapsed: 2:37:10.\n",
      "  Batch 8,100  of  9,766.    Elapsed: 2:39:08.\n",
      "  Batch 8,200  of  9,766.    Elapsed: 2:41:05.\n",
      "  Batch 8,300  of  9,766.    Elapsed: 2:43:03.\n",
      "  Batch 8,400  of  9,766.    Elapsed: 2:45:01.\n",
      "  Batch 8,500  of  9,766.    Elapsed: 2:46:59.\n",
      "  Batch 8,600  of  9,766.    Elapsed: 2:48:57.\n",
      "  Batch 8,700  of  9,766.    Elapsed: 2:50:55.\n",
      "  Batch 8,800  of  9,766.    Elapsed: 2:52:52.\n",
      "  Batch 8,900  of  9,766.    Elapsed: 2:54:51.\n",
      "  Batch 9,000  of  9,766.    Elapsed: 2:56:48.\n",
      "  Batch 9,100  of  9,766.    Elapsed: 2:58:46.\n",
      "  Batch 9,200  of  9,766.    Elapsed: 3:00:44.\n",
      "  Batch 9,300  of  9,766.    Elapsed: 3:02:42.\n",
      "  Batch 9,400  of  9,766.    Elapsed: 3:04:40.\n",
      "  Batch 9,500  of  9,766.    Elapsed: 3:06:38.\n",
      "  Batch 9,600  of  9,766.    Elapsed: 3:08:36.\n",
      "  Batch 9,700  of  9,766.    Elapsed: 3:10:33.\n",
      "\n",
      "  Average training loss: 7103.88\n",
      "  Training epcoh took: 3:11:51\n",
      "\n",
      "Running Validation...\n",
      "  Validation Loss: 4351.63\n",
      "  Validation took: 0:07:23\n",
      "\n",
      "Training complete!\n",
      "Total training took 6:39:02 (h:mm:ss)\n"
     ]
    }
   ]
  },
  {
   "cell_type": "markdown",
   "source": [
    "## Training Results"
   ],
   "metadata": {
    "id": "Ov5qOiwxiBQO",
    "pycharm": {
     "name": "#%% md\n"
    }
   }
  },
  {
   "cell_type": "markdown",
   "source": [
    "Let's view the summary of the training process."
   ],
   "metadata": {
    "id": "jkGAtAHKiEpV",
    "pycharm": {
     "name": "#%% md\n"
    }
   }
  },
  {
   "cell_type": "code",
   "source": [
    "import pandas as pd\n",
    "\n",
    "# Display floats with two decimal places.\n",
    "pd.set_option('precision', 2)\n",
    "\n",
    "# Create a DataFrame from our training statistics.\n",
    "df_stats = pd.DataFrame(data=training_stats)\n",
    "\n",
    "# Use the 'epoch' as the row index.\n",
    "df_stats = df_stats.set_index('epoch')\n",
    "\n",
    "# A hack to force the column headers to wrap (doesn't seem to work in Colab).\n",
    "#df = df.style.set_table_styles([dict(selector=\"th\",props=[('max-width', '70px')])])\n",
    "\n",
    "# Display the table.\n",
    "df_stats"
   ],
   "metadata": {
    "colab": {
     "base_uri": "https://localhost:8080/",
     "height": 143
    },
    "id": "YCRG6WPPiAyi",
    "outputId": "3ca780ca-8599-490e-c1ef-afe96cfac022",
    "pycharm": {
     "name": "#%%\n"
    }
   },
   "execution_count": 42,
   "outputs": [
    {
     "output_type": "execute_result",
     "data": {
      "text/plain": [
       "       Training Loss  Valid. Loss Training Time Validation Time\n",
       "epoch                                                          \n",
       "1           19462.26      4492.15       3:12:24         0:07:23\n",
       "2            7103.88      4351.63       3:11:51         0:07:23"
      ],
      "text/html": [
       "\n",
       "  <div id=\"df-f24e9c32-d135-4dc3-973c-9b14c46e737d\">\n",
       "    <div class=\"colab-df-container\">\n",
       "      <div>\n",
       "<style scoped>\n",
       "    .dataframe tbody tr th:only-of-type {\n",
       "        vertical-align: middle;\n",
       "    }\n",
       "\n",
       "    .dataframe tbody tr th {\n",
       "        vertical-align: top;\n",
       "    }\n",
       "\n",
       "    .dataframe thead th {\n",
       "        text-align: right;\n",
       "    }\n",
       "</style>\n",
       "<table border=\"1\" class=\"dataframe\">\n",
       "  <thead>\n",
       "    <tr style=\"text-align: right;\">\n",
       "      <th></th>\n",
       "      <th>Training Loss</th>\n",
       "      <th>Valid. Loss</th>\n",
       "      <th>Training Time</th>\n",
       "      <th>Validation Time</th>\n",
       "    </tr>\n",
       "    <tr>\n",
       "      <th>epoch</th>\n",
       "      <th></th>\n",
       "      <th></th>\n",
       "      <th></th>\n",
       "      <th></th>\n",
       "    </tr>\n",
       "  </thead>\n",
       "  <tbody>\n",
       "    <tr>\n",
       "      <th>1</th>\n",
       "      <td>19462.26</td>\n",
       "      <td>4492.15</td>\n",
       "      <td>3:12:24</td>\n",
       "      <td>0:07:23</td>\n",
       "    </tr>\n",
       "    <tr>\n",
       "      <th>2</th>\n",
       "      <td>7103.88</td>\n",
       "      <td>4351.63</td>\n",
       "      <td>3:11:51</td>\n",
       "      <td>0:07:23</td>\n",
       "    </tr>\n",
       "  </tbody>\n",
       "</table>\n",
       "</div>\n",
       "      <button class=\"colab-df-convert\" onclick=\"convertToInteractive('df-f24e9c32-d135-4dc3-973c-9b14c46e737d')\"\n",
       "              title=\"Convert this dataframe to an interactive table.\"\n",
       "              style=\"display:none;\">\n",
       "        \n",
       "  <svg xmlns=\"http://www.w3.org/2000/svg\" height=\"24px\"viewBox=\"0 0 24 24\"\n",
       "       width=\"24px\">\n",
       "    <path d=\"M0 0h24v24H0V0z\" fill=\"none\"/>\n",
       "    <path d=\"M18.56 5.44l.94 2.06.94-2.06 2.06-.94-2.06-.94-.94-2.06-.94 2.06-2.06.94zm-11 1L8.5 8.5l.94-2.06 2.06-.94-2.06-.94L8.5 2.5l-.94 2.06-2.06.94zm10 10l.94 2.06.94-2.06 2.06-.94-2.06-.94-.94-2.06-.94 2.06-2.06.94z\"/><path d=\"M17.41 7.96l-1.37-1.37c-.4-.4-.92-.59-1.43-.59-.52 0-1.04.2-1.43.59L10.3 9.45l-7.72 7.72c-.78.78-.78 2.05 0 2.83L4 21.41c.39.39.9.59 1.41.59.51 0 1.02-.2 1.41-.59l7.78-7.78 2.81-2.81c.8-.78.8-2.07 0-2.86zM5.41 20L4 18.59l7.72-7.72 1.47 1.35L5.41 20z\"/>\n",
       "  </svg>\n",
       "      </button>\n",
       "      \n",
       "  <style>\n",
       "    .colab-df-container {\n",
       "      display:flex;\n",
       "      flex-wrap:wrap;\n",
       "      gap: 12px;\n",
       "    }\n",
       "\n",
       "    .colab-df-convert {\n",
       "      background-color: #E8F0FE;\n",
       "      border: none;\n",
       "      border-radius: 50%;\n",
       "      cursor: pointer;\n",
       "      display: none;\n",
       "      fill: #1967D2;\n",
       "      height: 32px;\n",
       "      padding: 0 0 0 0;\n",
       "      width: 32px;\n",
       "    }\n",
       "\n",
       "    .colab-df-convert:hover {\n",
       "      background-color: #E2EBFA;\n",
       "      box-shadow: 0px 1px 2px rgba(60, 64, 67, 0.3), 0px 1px 3px 1px rgba(60, 64, 67, 0.15);\n",
       "      fill: #174EA6;\n",
       "    }\n",
       "\n",
       "    [theme=dark] .colab-df-convert {\n",
       "      background-color: #3B4455;\n",
       "      fill: #D2E3FC;\n",
       "    }\n",
       "\n",
       "    [theme=dark] .colab-df-convert:hover {\n",
       "      background-color: #434B5C;\n",
       "      box-shadow: 0px 1px 3px 1px rgba(0, 0, 0, 0.15);\n",
       "      filter: drop-shadow(0px 1px 2px rgba(0, 0, 0, 0.3));\n",
       "      fill: #FFFFFF;\n",
       "    }\n",
       "  </style>\n",
       "\n",
       "      <script>\n",
       "        const buttonEl =\n",
       "          document.querySelector('#df-f24e9c32-d135-4dc3-973c-9b14c46e737d button.colab-df-convert');\n",
       "        buttonEl.style.display =\n",
       "          google.colab.kernel.accessAllowed ? 'block' : 'none';\n",
       "\n",
       "        async function convertToInteractive(key) {\n",
       "          const element = document.querySelector('#df-f24e9c32-d135-4dc3-973c-9b14c46e737d');\n",
       "          const dataTable =\n",
       "            await google.colab.kernel.invokeFunction('convertToInteractive',\n",
       "                                                     [key], {});\n",
       "          if (!dataTable) return;\n",
       "\n",
       "          const docLinkHtml = 'Like what you see? Visit the ' +\n",
       "            '<a target=\"_blank\" href=https://colab.research.google.com/notebooks/data_table.ipynb>data table notebook</a>'\n",
       "            + ' to learn more about interactive tables.';\n",
       "          element.innerHTML = '';\n",
       "          dataTable['output_type'] = 'display_data';\n",
       "          await google.colab.output.renderOutput(dataTable, element);\n",
       "          const docLink = document.createElement('div');\n",
       "          docLink.innerHTML = docLinkHtml;\n",
       "          element.appendChild(docLink);\n",
       "        }\n",
       "      </script>\n",
       "    </div>\n",
       "  </div>\n",
       "  "
      ]
     },
     "metadata": {},
     "execution_count": 42
    }
   ]
  },
  {
   "cell_type": "code",
   "source": [
    "import matplotlib.pyplot as plt\n",
    "% matplotlib inline\n",
    "\n",
    "import seaborn as sns\n",
    "\n",
    "# Use plot styling from seaborn.\n",
    "sns.set(style='darkgrid')\n",
    "\n",
    "# Increase the plot size and font size.\n",
    "sns.set(font_scale=1.5)\n",
    "plt.rcParams[\"figure.figsize\"] = (12,6)\n",
    "\n",
    "# Plot the learning curve.\n",
    "plt.plot(df_stats['Training Loss'], 'b-o', label=\"Training\")\n",
    "plt.plot(df_stats['Valid. Loss'], 'g-o', label=\"Validation\")\n",
    "\n",
    "# Label the plot.\n",
    "plt.title(\"Training & Validation Loss\")\n",
    "plt.xlabel(\"Epoch\")\n",
    "plt.ylabel(\"Loss\")\n",
    "plt.legend()\n",
    "plt.xticks([1, 2, 3, 4])\n",
    "\n",
    "plt.show()"
   ],
   "metadata": {
    "colab": {
     "base_uri": "https://localhost:8080/",
     "height": 447
    },
    "id": "a_Fhi4v6iHti",
    "outputId": "ad21c59f-0592-497a-f2ec-cd5a8e6fc9f5",
    "pycharm": {
     "name": "#%%\n"
    }
   },
   "execution_count": 43,
   "outputs": [
    {
     "output_type": "display_data",
     "data": {
      "text/plain": [
       "<Figure size 864x432 with 1 Axes>"
      ],
      "image/png": "[encoded data removed]"
     },
     "metadata": {}
    }
   ]
  },
  {
   "cell_type": "markdown",
   "source": [
    "# Test"
   ],
   "metadata": {
    "id": "E4q8Bxp7c0vN",
    "pycharm": {
     "name": "#%% md\n"
    }
   }
  },
  {
   "cell_type": "markdown",
   "source": [
    "## Prepare Test Samples"
   ],
   "metadata": {
    "id": "FOM7jGO0dAnF",
    "pycharm": {
     "name": "#%% md\n"
    }
   }
  },
  {
   "cell_type": "markdown",
   "source": [
    "The pre-processing of the categorical and numerical features was done on the full dataset, and then we split it back into training and test sets lately. \n",
    "\n",
    "The one step we still need to do here is to tokenize and encode the text features for BERT. "
   ],
   "metadata": {
    "id": "-UfKqvnCdDF6",
    "pycharm": {
     "name": "#%% md\n"
    }
   }
  },
  {
   "cell_type": "markdown",
   "source": [
    "Now we're ready to apply our fine-tuned model to the test set and see how we score."
   ],
   "metadata": {
    "id": "VyT6X24sc6fA",
    "pycharm": {
     "name": "#%% md\n"
    }
   }
  },
  {
   "cell_type": "code",
   "source": [
    "import torch\n",
    "\n",
    "# Tokenize all of the sentences and map the tokens to thier word IDs.\n",
    "input_ids = []\n",
    "\n",
    "attention_masks = []\n",
    "\n",
    "print('Encoding {:,} text samples...'.format(len(test_df)))\n",
    "\n",
    "num_done = 0\n",
    "\n",
    "# For each of the samples...\n",
    "for (row_i, row) in test_df.iterrows():\n",
    "\n",
    "    # Update every 2k samples.\n",
    "    if ((num_done % 2000) == 0):\n",
    "        print('  {:>6,}'.format(num_done))\n",
    "\n",
    "    # `encode_plus` will:\n",
    "    #   (1) Tokenize the sentence.\n",
    "    #   (2) Prepend the `[CLS]` token to the start.\n",
    "    #   (3) Append the `[SEP]` token to the end.\n",
    "    #   (4) Map tokens to their IDs.\n",
    "    #   (5) Pad or truncate the sentence to `max_length`\n",
    "    #   (6) Create attention masks for [PAD] tokens.\n",
    "    encoded_dict = tokenizer.encode_plus(\n",
    "                        row['text'],                  # Sentence to encode.\n",
    "                        max_length = max_len,  # Pad & truncate all sentences.\n",
    "                        truncation = True,\n",
    "                        padding = 'max_length',\n",
    "                        return_attention_mask = True,   # Construct attn. masks.\n",
    "                        return_tensors = 'pt',     # Return pytorch tensors.\n",
    "                )\n",
    "    \n",
    "    # Add the encoded sentence to the list.    \n",
    "    input_ids.append(encoded_dict['input_ids'])\n",
    "    \n",
    "    # And its attention mask (simply differentiates padding from non-padding).\n",
    "    attention_masks.append(encoded_dict['attention_mask'])\n",
    "\n",
    "    num_done += 1\n",
    "\n",
    "# Convert the lists into tensors.\n",
    "input_ids = torch.cat(input_ids, dim=0)\n",
    "attention_masks = torch.cat(attention_masks, dim=0)\n",
    "\n",
    "print('DONE.')"
   ],
   "metadata": {
    "colab": {
     "base_uri": "https://localhost:8080/"
    },
    "id": "ci39FSMJiTls",
    "outputId": "352f0cd0-b1ed-4a0f-af51-fb8cdcb87aac",
    "pycharm": {
     "name": "#%%\n"
    }
   },
   "execution_count": 44,
   "outputs": [
    {
     "output_type": "stream",
     "name": "stdout",
     "text": [
      "Encoding 43,404 text samples...\n",
      "       0\n",
      "   2,000\n",
      "   4,000\n",
      "   6,000\n",
      "   8,000\n",
      "  10,000\n",
      "  12,000\n",
      "  14,000\n",
      "  16,000\n",
      "  18,000\n",
      "  20,000\n",
      "  22,000\n",
      "  24,000\n",
      "  26,000\n",
      "  28,000\n",
      "  30,000\n",
      "  32,000\n",
      "  34,000\n",
      "  36,000\n",
      "  38,000\n",
      "  40,000\n",
      "  42,000\n",
      "DONE.\n"
     ]
    }
   ]
  },
  {
   "cell_type": "code",
   "source": [
    "import torch\n",
    "\n",
    "# Tensor for labels.\n",
    "labels = torch.tensor(test_df['rent'].values)\n",
    "\n",
    "# Tensor for categorical features.\n",
    "categorical_feats = torch.tensor(test_df[col_info['cat_cols']].values, dtype=torch.float32)\n",
    "\n",
    "# Tensor for numerical features.\n",
    "numerical_feats = torch.tensor(test_df[col_info['num_cols']].values.astype('float'), dtype=torch.float32)"
   ],
   "metadata": {
    "id": "XE6Awa2BiYQi",
    "pycharm": {
     "name": "#%%\n"
    }
   },
   "execution_count": 45,
   "outputs": []
  },
  {
   "cell_type": "code",
   "source": [
    "from torch.utils.data import TensorDataset\n",
    "\n",
    "# Combine the training inputs into a TensorDataset.\n",
    "test_dataset = TensorDataset(input_ids, categorical_feats, numerical_feats, attention_masks, labels)\n"
   ],
   "metadata": {
    "id": "2lFL6SHPicTL",
    "pycharm": {
     "name": "#%%\n"
    }
   },
   "execution_count": 46,
   "outputs": []
  },
  {
   "cell_type": "markdown",
   "source": [
    "## Evaluate Test Set"
   ],
   "metadata": {
    "id": "020EYAvKdZxm",
    "pycharm": {
     "name": "#%% md\n"
    }
   }
  },
  {
   "cell_type": "markdown",
   "source": [
    "Now we're ready to score our trained model against the test set!\n",
    "\n",
    "The below cell will generate all of the predictions."
   ],
   "metadata": {
    "id": "TUrrk1nOdc4Y",
    "pycharm": {
     "name": "#%% md\n"
    }
   }
  },
  {
   "cell_type": "code",
   "source": [
    "# Create a DataLoader to batch our test samples for us. We'll use a sequential\n",
    "# sampler this time--don't need this to be random!\n",
    "prediction_sampler = SequentialSampler(test_dataset)\n",
    "prediction_dataloader = DataLoader(test_dataset, sampler=prediction_sampler, batch_size=batch_size)\n",
    "\n",
    "print('Predicting labels for {:,} test sentences...'.format(len(test_dataset)))\n",
    "\n",
    "# Put model in evaluation mode\n",
    "model.eval()\n",
    "\n",
    "# Tracking variables \n",
    "predictions , true_labels = [], []\n",
    "\n",
    "# Predict \n",
    "for batch in prediction_dataloader:\n",
    "  # Add batch to GPU\n",
    "  batch = tuple(t.to(device) for t in batch)\n",
    "\n",
    "  # Unpack the inputs from our dataloader\n",
    "  b_input_ids, b_categ_feats, b_numer_feats, b_input_mask, b_labels = batch\n",
    "  \n",
    "  # Telling the model not to compute or store gradients, saving memory and \n",
    "  # speeding up prediction\n",
    "  with torch.no_grad():\n",
    "      # Forward pass, calculate logit predictions.\n",
    "      result = model(b_input_ids, \n",
    "                     token_type_ids=None, \n",
    "                     attention_mask=b_input_mask,\n",
    "                     cat_feats = b_categ_feats,\n",
    "                     numerical_feats = b_numer_feats)\n",
    "\n",
    "\n",
    "  logits = result['logits']\n",
    "\n",
    "  # Move logits and labels to CPU\n",
    "  logits = logits.detach().cpu().numpy()\n",
    "  label_ids = b_labels.to('cpu').numpy()\n",
    "  \n",
    "  # Store predictions and true labels\n",
    "  predictions.append(logits)\n",
    "  true_labels.append(label_ids)\n",
    "\n",
    "print('    DONE.')"
   ],
   "metadata": {
    "colab": {
     "base_uri": "https://localhost:8080/"
    },
    "id": "S1DzXlKqifrM",
    "outputId": "7090dc39-7b22-4dc0-ef20-2e200875837d",
    "pycharm": {
     "name": "#%%\n"
    }
   },
   "execution_count": 47,
   "outputs": [
    {
     "output_type": "stream",
     "name": "stdout",
     "text": [
      "Predicting labels for 43,404 test sentences...\n",
      "    DONE.\n"
     ]
    }
   ]
  },
  {
   "cell_type": "code",
   "source": [
    "# Combine the results across all batches. \n",
    "flat_predictions = np.concatenate(predictions, axis=0)\n",
    "\n",
    "# Combine the correct labels for each batch into a single list.\n",
    "flat_true_labels = np.concatenate(true_labels, axis=0)"
   ],
   "metadata": {
    "id": "CAg2rmrMiiPF",
    "pycharm": {
     "name": "#%%\n"
    }
   },
   "execution_count": 48,
   "outputs": []
  },
  {
   "cell_type": "markdown",
   "source": [
    "## Test Results"
   ],
   "metadata": {
    "id": "AqtWMygjdlLn",
    "pycharm": {
     "name": "#%% md\n"
    }
   }
  },
  {
   "cell_type": "markdown",
   "source": [
    "Now we can score the results!\n",
    "The first is the Mean Absolute Error (MAE).\n"
   ],
   "metadata": {
    "id": "mPZSOFaSdnCK",
    "pycharm": {
     "name": "#%% md\n"
    }
   }
  },
  {
   "cell_type": "code",
   "source": [
    "# Subtract the values from eachother, take the absolute value, then average them.\n",
    "mae = abs(flat_predictions - flat_true_labels).mean()\n",
    "\n",
    "print('MAE: %.2f' % mae)\n"
   ],
   "metadata": {
    "colab": {
     "base_uri": "https://localhost:8080/"
    },
    "id": "o0gOJzrPikYe",
    "outputId": "24f39741-603d-4dbd-ebad-597817471aed",
    "pycharm": {
     "name": "#%%\n"
    }
   },
   "execution_count": 49,
   "outputs": [
    {
     "output_type": "stream",
     "name": "stdout",
     "text": [
      "MAE: 380.70\n"
     ]
    }
   ]
  },
  {
   "cell_type": "markdown",
   "source": [
    "The second metric is the Root Mean Squared Error (RMSE). The RMSE more heavily punishes large errors because it squares the differences before averaging."
   ],
   "metadata": {
    "id": "rPCpufRDd0-z",
    "pycharm": {
     "name": "#%% md\n"
    }
   }
  },
  {
   "cell_type": "code",
   "source": [
    "import math\n",
    "\n",
    "# First, calculate the squared error for each individual prediction.\n",
    "squared_diffs = (flat_predictions - flat_true_labels)**2\n",
    "\n",
    "# Next, average these error values to get the MSE.\n",
    "mse = squared_diffs.mean()\n",
    "\n",
    "# Finally, take the square root to get the RMSE.\n",
    "rmse = math.sqrt(mse)\n",
    "\n",
    "print('RMSE: %.2f' % rmse)"
   ],
   "metadata": {
    "colab": {
     "base_uri": "https://localhost:8080/"
    },
    "id": "xb_eAxlhip4T",
    "outputId": "7b28204e-9c22-40ce-92ee-2a692e65c1e8",
    "pycharm": {
     "name": "#%%\n"
    }
   },
   "execution_count": 50,
   "outputs": [
    {
     "output_type": "stream",
     "name": "stdout",
     "text": [
      "RMSE: 516.35\n"
     ]
    }
   ]
  },
  {
   "cell_type": "code",
   "source": [
    "tokenizer.save_pretrained(\"drive/MyDrive/local-pt-checkpoint\")\n",
    "model.save_pretrained(\"drive/MyDrive/local-pt-checkpoint\")"
   ],
   "metadata": {
    "id": "FDglLlKniqlR",
    "pycharm": {
     "name": "#%%\n"
    }
   },
   "execution_count": 51,
   "outputs": []
  }
 ]
}